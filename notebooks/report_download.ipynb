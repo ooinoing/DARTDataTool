{
 "cells": [
  {
   "cell_type": "markdown",
   "metadata": {},
   "source": [
    "# 사업보고서 pdf 파일 다운 "
   ]
  },
  {
   "cell_type": "markdown",
   "metadata": {},
   "source": [
    "1.\t보고서 목록 조회 및 CSV 파일로 저장: \n",
    "- 주어진 기업명과 종목코드를 사용하여 해당 기업에 공시된 보고서 목록을 조회합니다.\n",
    "- 조회된 모든 보고서의 보고서 코드와 관련된 정보를 CSV 파일로 저장합니다. 이 과정에서 모든 기업의 보고서 코드를 일괄적으로 처리하여 CSV 파일에 기록합니다.\n",
    "2.\t사업보고서 다운로드:\n",
    "- 이전 단계에서 생성된 CSV 파일로부터 한 줄씩 데이터를 읽어옵니다.\n",
    "- 각 줄에 해당하는 보고서 코드를 이용하여 사업보고서를 다운로드합니다.\n",
    "- 다운로드된 파일은 아래의 규칙에 따라 파일명을 지정하여 저장합니다:\n",
    "\t- 일반 서류의 경우: [종목코드]_[기업명].pdf\n",
    "\t- 정정 서류의 경우: [정정][종목코드]_[기업명].pdf"
   ]
  },
  {
   "cell_type": "code",
   "execution_count": 1,
   "metadata": {},
   "outputs": [
    {
     "name": "stdout",
     "output_type": "stream",
     "text": [
      "/Users/jiho/Lab/kubs/data\n"
     ]
    }
   ],
   "source": [
    "import sys\n",
    "import os\n",
    "\n",
    "# src 디렉토리를 PYTHONPATH에 추가\n",
    "sys.path.append(os.path.abspath(os.path.join(os.getcwd(), '../src')))\n",
    "DATA_PATH = os.path.join(os.path.abspath(os.path.join(os.getcwd(), '../data')))\n",
    "\n",
    "print(DATA_PATH)"
   ]
  },
  {
   "cell_type": "code",
   "execution_count": 2,
   "metadata": {},
   "outputs": [
    {
     "name": "stdout",
     "output_type": "stream",
     "text": [
      "                                   \r"
     ]
    }
   ],
   "source": [
    "import pandas as pd\n",
    "import os\n",
    "import numpy as np\n",
    "import dart_fss as dart\n",
    "import zipfile\n",
    "from zipfile import ZipFile\n",
    "from datetime import datetime\n",
    "import tqdm\n",
    "import report_download as dt"
   ]
  },
  {
   "cell_type": "markdown",
   "metadata": {},
   "source": [
    "1. 보고서 목록 조회 및 저장"
   ]
  },
  {
   "cell_type": "code",
   "execution_count": 3,
   "metadata": {},
   "outputs": [
    {
     "name": "stdout",
     "output_type": "stream",
     "text": [
      "Download 사업보고서 of kospi....\n"
     ]
    },
    {
     "name": "stderr",
     "output_type": "stream",
     "text": [
      "  0%|          | 0/2 [00:00<?, ?it/s]"
     ]
    },
    {
     "name": "stdout",
     "output_type": "stream",
     "text": [
      "Saving Report Info of 095570...\n"
     ]
    },
    {
     "name": "stderr",
     "output_type": "stream",
     "text": [
      " 50%|█████     | 1/2 [00:00<00:00,  1.96it/s]"
     ]
    },
    {
     "name": "stdout",
     "output_type": "stream",
     "text": [
      "Saving Report Info of 006840...\n"
     ]
    },
    {
     "name": "stderr",
     "output_type": "stream",
     "text": [
      "100%|██████████| 2/2 [00:01<00:00,  1.97it/s]"
     ]
    },
    {
     "name": "stdout",
     "output_type": "stream",
     "text": [
      "Saved to /Users/jiho/Lab/kubs/data/raw/kospi/보고서코드.csv\n"
     ]
    },
    {
     "name": "stderr",
     "output_type": "stream",
     "text": [
      "\n"
     ]
    }
   ],
   "source": [
    "for market in [\"kospi\"]:#,\"kosdaq\"]:\n",
    "    print(f\"Download 사업보고서 of {market}....\")\n",
    "    dt.save_report_no(market=f\"{market}\")"
   ]
  },
  {
   "cell_type": "markdown",
   "metadata": {},
   "source": [
    "2. pdf 다운"
   ]
  },
  {
   "cell_type": "code",
   "execution_count": 4,
   "metadata": {},
   "outputs": [
    {
     "name": "stderr",
     "output_type": "stream",
     "text": [
      "  0%|          | 0/13 [00:00<?, ?it/s]"
     ]
    },
    {
     "name": "stdout",
     "output_type": "stream",
     "text": [
      "Downloading [AJ네트웍스]사업보고서(2024.03.20).pdf from http://dart.fss.or.kr/pdf/download/pdf.do?rcp_no=20240320001795&dcm_no=9743048 to /Users/jiho/Lab/kubs/data/raw/kospi/사업보고서/2024/095570_AJ네트웍스.pdf\n"
     ]
    },
    {
     "name": "stderr",
     "output_type": "stream",
     "text": [
      "  8%|▊         | 1/13 [00:01<00:13,  1.11s/it]"
     ]
    },
    {
     "name": "stdout",
     "output_type": "stream",
     "text": [
      "Downloading [AJ네트웍스]사업보고서(2023.03.21).pdf from http://dart.fss.or.kr/pdf/download/pdf.do?rcp_no=20230321001546&dcm_no=9086154 to /Users/jiho/Lab/kubs/data/raw/kospi/사업보고서/2023/095570_AJ네트웍스.pdf\n"
     ]
    },
    {
     "name": "stderr",
     "output_type": "stream",
     "text": [
      " 15%|█▌        | 2/13 [00:02<00:12,  1.13s/it]"
     ]
    },
    {
     "name": "stdout",
     "output_type": "stream",
     "text": [
      "Downloading [AJ네트웍스][정정]사업보고서(2022.08.05).pdf from http://dart.fss.or.kr/pdf/download/pdf.do?rcp_no=20220805000318&dcm_no=8756839 to /Users/jiho/Lab/kubs/data/raw/kospi/사업보고서/2022/[정정]095570_AJ네트웍스.pdf\n"
     ]
    },
    {
     "name": "stderr",
     "output_type": "stream",
     "text": [
      " 23%|██▎       | 3/13 [00:03<00:10,  1.08s/it]"
     ]
    },
    {
     "name": "stdout",
     "output_type": "stream",
     "text": [
      "Downloading [AJ네트웍스]사업보고서(2022.03.21).pdf from http://dart.fss.or.kr/pdf/download/pdf.do?rcp_no=20220321001262&dcm_no=8485881 to /Users/jiho/Lab/kubs/data/raw/kospi/사업보고서/2022/095570_AJ네트웍스.pdf\n"
     ]
    },
    {
     "name": "stderr",
     "output_type": "stream",
     "text": [
      " 31%|███       | 4/13 [00:04<00:10,  1.13s/it]"
     ]
    },
    {
     "name": "stdout",
     "output_type": "stream",
     "text": [
      "Downloading [AJ네트웍스][정정]사업보고서(2021.03.23).pdf from http://dart.fss.or.kr/pdf/download/pdf.do?rcp_no=20210323000506&dcm_no=7909465 to /Users/jiho/Lab/kubs/data/raw/kospi/사업보고서/2021/[정정]095570_AJ네트웍스.pdf\n"
     ]
    },
    {
     "name": "stderr",
     "output_type": "stream",
     "text": [
      " 38%|███▊      | 5/13 [00:05<00:09,  1.21s/it]"
     ]
    },
    {
     "name": "stdout",
     "output_type": "stream",
     "text": [
      "Downloading [AJ네트웍스]사업보고서(2021.03.22).pdf from http://dart.fss.or.kr/pdf/download/pdf.do?rcp_no=20210322001122&dcm_no=7907158 to /Users/jiho/Lab/kubs/data/raw/kospi/사업보고서/2021/095570_AJ네트웍스.pdf\n"
     ]
    },
    {
     "name": "stderr",
     "output_type": "stream",
     "text": [
      " 46%|████▌     | 6/13 [00:07<00:08,  1.20s/it]"
     ]
    },
    {
     "name": "stdout",
     "output_type": "stream",
     "text": [
      "Downloading [AJ네트웍스]사업보고서(2020.03.30).pdf from http://dart.fss.or.kr/pdf/download/pdf.do?rcp_no=20200330003824&dcm_no=7202267 to /Users/jiho/Lab/kubs/data/raw/kospi/사업보고서/2020/095570_AJ네트웍스.pdf\n"
     ]
    },
    {
     "name": "stderr",
     "output_type": "stream",
     "text": [
      " 54%|█████▍    | 7/13 [00:08<00:07,  1.21s/it]"
     ]
    },
    {
     "name": "stdout",
     "output_type": "stream",
     "text": [
      "Downloading [AK홀딩스]사업보고서(2024.03.21).pdf from http://dart.fss.or.kr/pdf/download/pdf.do?rcp_no=20240321001157&dcm_no=9750217 to /Users/jiho/Lab/kubs/data/raw/kospi/사업보고서/2024/006840_AK홀딩스.pdf\n"
     ]
    },
    {
     "name": "stderr",
     "output_type": "stream",
     "text": [
      " 62%|██████▏   | 8/13 [00:09<00:05,  1.16s/it]"
     ]
    },
    {
     "name": "stdout",
     "output_type": "stream",
     "text": [
      "Downloading [AK홀딩스]사업보고서(2023.03.23).pdf from http://dart.fss.or.kr/pdf/download/pdf.do?rcp_no=20230323001504&dcm_no=9099611 to /Users/jiho/Lab/kubs/data/raw/kospi/사업보고서/2023/006840_AK홀딩스.pdf\n"
     ]
    },
    {
     "name": "stderr",
     "output_type": "stream",
     "text": [
      " 69%|██████▉   | 9/13 [00:10<00:04,  1.22s/it]"
     ]
    },
    {
     "name": "stdout",
     "output_type": "stream",
     "text": [
      "Downloading [AK홀딩스]사업보고서(2022.03.21).pdf from http://dart.fss.or.kr/pdf/download/pdf.do?rcp_no=20220321001495&dcm_no=8487700 to /Users/jiho/Lab/kubs/data/raw/kospi/사업보고서/2022/006840_AK홀딩스.pdf\n"
     ]
    },
    {
     "name": "stderr",
     "output_type": "stream",
     "text": [
      " 77%|███████▋  | 10/13 [00:11<00:03,  1.14s/it]"
     ]
    },
    {
     "name": "stdout",
     "output_type": "stream",
     "text": [
      "Downloading [AK홀딩스][정정]사업보고서(2021.03.23).pdf from http://dart.fss.or.kr/pdf/download/pdf.do?rcp_no=20210323000581&dcm_no=7909832 to /Users/jiho/Lab/kubs/data/raw/kospi/사업보고서/2021/[정정]006840_AK홀딩스.pdf\n"
     ]
    },
    {
     "name": "stderr",
     "output_type": "stream",
     "text": [
      " 85%|████████▍ | 11/13 [00:13<00:02,  1.24s/it]"
     ]
    },
    {
     "name": "stdout",
     "output_type": "stream",
     "text": [
      "Downloading [AK홀딩스]사업보고서(2021.03.22).pdf from http://dart.fss.or.kr/pdf/download/pdf.do?rcp_no=20210322001104&dcm_no=7907000 to /Users/jiho/Lab/kubs/data/raw/kospi/사업보고서/2021/006840_AK홀딩스.pdf\n"
     ]
    },
    {
     "name": "stderr",
     "output_type": "stream",
     "text": [
      " 92%|█████████▏| 12/13 [00:14<00:01,  1.21s/it]"
     ]
    },
    {
     "name": "stdout",
     "output_type": "stream",
     "text": [
      "Downloading [AK홀딩스]사업보고서(2020.03.30).pdf from http://dart.fss.or.kr/pdf/download/pdf.do?rcp_no=20200330003219&dcm_no=7198402 to /Users/jiho/Lab/kubs/data/raw/kospi/사업보고서/2020/006840_AK홀딩스.pdf\n"
     ]
    },
    {
     "name": "stderr",
     "output_type": "stream",
     "text": [
      "100%|██████████| 13/13 [00:16<00:00,  1.25s/it]"
     ]
    },
    {
     "name": "stdout",
     "output_type": "stream",
     "text": [
      "Error list saved to /Users/jiho/Lab/kubs/data/processed/[kospi]report_download_error_list.txt\n"
     ]
    },
    {
     "name": "stderr",
     "output_type": "stream",
     "text": [
      "\n"
     ]
    }
   ],
   "source": [
    "dt.download_pdf_files(market=\"kospi\")"
   ]
  },
  {
   "cell_type": "markdown",
   "metadata": {},
   "source": [
    "# 정관 html 파일 다운"
   ]
  },
  {
   "cell_type": "code",
   "execution_count": 6,
   "metadata": {},
   "outputs": [
    {
     "name": "stdout",
     "output_type": "stream",
     "text": [
      "⠋ Downloading 20240320001795.zip"
     ]
    },
    {
     "ename": "NotADirectoryError",
     "evalue": "[Errno 20] Not a directory: '/Users/jiho/Lab/kubs/data/raw/kospi/정관/095570_AJ네트웍스.html/20240320001795.zip'",
     "output_type": "error",
     "traceback": [
      "\u001b[0;31m---------------------------------------------------------------------------\u001b[0m",
      "\u001b[0;31mNotADirectoryError\u001b[0m                        Traceback (most recent call last)",
      "Cell \u001b[0;32mIn[6], line 1\u001b[0m\n\u001b[0;32m----> 1\u001b[0m \u001b[43mdt\u001b[49m\u001b[38;5;241;43m.\u001b[39;49m\u001b[43mdownload_jungwan\u001b[49m\u001b[43m(\u001b[49m\u001b[43mmarket\u001b[49m\u001b[38;5;241;43m=\u001b[39;49m\u001b[38;5;124;43m\"\u001b[39;49m\u001b[38;5;124;43mkospi\u001b[39;49m\u001b[38;5;124;43m\"\u001b[39;49m\u001b[43m,\u001b[49m\u001b[43moutput_dir\u001b[49m\u001b[38;5;241;43m=\u001b[39;49m\u001b[38;5;124;43mf\u001b[39;49m\u001b[38;5;124;43m\"\u001b[39;49m\u001b[38;5;132;43;01m{\u001b[39;49;00m\u001b[43mDATA_PATH\u001b[49m\u001b[38;5;132;43;01m}\u001b[39;49;00m\u001b[38;5;124;43m/raw/\u001b[39;49m\u001b[38;5;132;43;01m{\u001b[39;49;00m\u001b[43mmarket\u001b[49m\u001b[38;5;132;43;01m}\u001b[39;49;00m\u001b[38;5;124;43m/정관\u001b[39;49m\u001b[38;5;124;43m\"\u001b[39;49m\u001b[43m)\u001b[49m\n",
      "File \u001b[0;32m~/Lab/kubs/src/report_download.py:185\u001b[0m, in \u001b[0;36mdownload_jungwan\u001b[0;34m(market, output_dir)\u001b[0m\n\u001b[1;32m    182\u001b[0m     \u001b[38;5;28;01mwith\u001b[39;00m \u001b[38;5;28mopen\u001b[39m(SAVE_ZIP_PATH, \u001b[38;5;124m\"\u001b[39m\u001b[38;5;124mw\u001b[39m\u001b[38;5;124m\"\u001b[39m) \u001b[38;5;28;01mas\u001b[39;00m file:\n\u001b[1;32m    183\u001b[0m         file\u001b[38;5;241m.\u001b[39mwrite(\u001b[38;5;28mstr\u001b[39m(result))  \u001b[38;5;66;03m# HTML 파일롤 저장\u001b[39;00m\n\u001b[0;32m--> 185\u001b[0m     \u001b[43mdart\u001b[49m\u001b[38;5;241;43m.\u001b[39;49m\u001b[43mapi\u001b[49m\u001b[38;5;241;43m.\u001b[39;49m\u001b[43mfilings\u001b[49m\u001b[38;5;241;43m.\u001b[39;49m\u001b[43mdownload_document\u001b[49m\u001b[43m(\u001b[49m\u001b[43mSAVE_ZIP_PATH\u001b[49m\u001b[43m,\u001b[49m\u001b[43m \u001b[49m\u001b[43mreport_no\u001b[49m\u001b[43m)\u001b[49m\n\u001b[1;32m    187\u001b[0m \u001b[38;5;28;01mreturn\u001b[39;00m \u001b[38;5;241m1\u001b[39m\n",
      "File \u001b[0;32m/opt/anaconda3/envs/gov_feature/lib/python3.12/site-packages/dart_fss/api/filings/document.py:30\u001b[0m, in \u001b[0;36mdownload_document\u001b[0;34m(path, rcept_no)\u001b[0m\n\u001b[1;32m     24\u001b[0m api_key \u001b[38;5;241m=\u001b[39m get_api_key()\n\u001b[1;32m     25\u001b[0m payload \u001b[38;5;241m=\u001b[39m {\n\u001b[1;32m     26\u001b[0m     \u001b[38;5;124m'\u001b[39m\u001b[38;5;124mcrtfc_key\u001b[39m\u001b[38;5;124m'\u001b[39m: api_key,\n\u001b[1;32m     27\u001b[0m     \u001b[38;5;124m'\u001b[39m\u001b[38;5;124mrcept_no\u001b[39m\u001b[38;5;124m'\u001b[39m: rcept_no,\n\u001b[1;32m     28\u001b[0m }\n\u001b[0;32m---> 30\u001b[0m resp \u001b[38;5;241m=\u001b[39m \u001b[43mrequest\u001b[49m\u001b[38;5;241;43m.\u001b[39;49m\u001b[43mdownload\u001b[49m\u001b[43m(\u001b[49m\u001b[43murl\u001b[49m\u001b[38;5;241;43m=\u001b[39;49m\u001b[43murl\u001b[49m\u001b[43m,\u001b[49m\u001b[43m \u001b[49m\u001b[43mpath\u001b[49m\u001b[38;5;241;43m=\u001b[39;49m\u001b[43mpath\u001b[49m\u001b[43m,\u001b[49m\u001b[43m \u001b[49m\u001b[43mpayload\u001b[49m\u001b[38;5;241;43m=\u001b[39;49m\u001b[43mpayload\u001b[49m\u001b[43m)\u001b[49m\n\u001b[1;32m     31\u001b[0m \u001b[38;5;28;01mreturn\u001b[39;00m resp[\u001b[38;5;124m'\u001b[39m\u001b[38;5;124mfull_path\u001b[39m\u001b[38;5;124m'\u001b[39m]\n",
      "File \u001b[0;32m/opt/anaconda3/envs/gov_feature/lib/python3.12/site-packages/dart_fss/utils/request.py:265\u001b[0m, in \u001b[0;36mRequest.download\u001b[0;34m(self, url, path, filename, method, payload, referer, timeout)\u001b[0m\n\u001b[1;32m    262\u001b[0m spinner\u001b[38;5;241m.\u001b[39mstart()\n\u001b[1;32m    264\u001b[0m file_path \u001b[38;5;241m=\u001b[39m os\u001b[38;5;241m.\u001b[39mpath\u001b[38;5;241m.\u001b[39mjoin(path, filename)\n\u001b[0;32m--> 265\u001b[0m \u001b[38;5;28;01mwith\u001b[39;00m \u001b[38;5;28;43mopen\u001b[39;49m\u001b[43m(\u001b[49m\u001b[43mfile_path\u001b[49m\u001b[43m,\u001b[49m\u001b[43m \u001b[49m\u001b[38;5;124;43m'\u001b[39;49m\u001b[38;5;124;43mwb\u001b[39;49m\u001b[38;5;124;43m'\u001b[39;49m\u001b[43m)\u001b[49m \u001b[38;5;28;01mas\u001b[39;00m f:\n\u001b[1;32m    266\u001b[0m     \u001b[38;5;28;01mfor\u001b[39;00m chunk \u001b[38;5;129;01min\u001b[39;00m r\u001b[38;5;241m.\u001b[39miter_content(chunk_size\u001b[38;5;241m=\u001b[39mblock_size):\n\u001b[1;32m    267\u001b[0m         \u001b[38;5;28;01mif\u001b[39;00m chunk \u001b[38;5;129;01mis\u001b[39;00m \u001b[38;5;129;01mnot\u001b[39;00m \u001b[38;5;28;01mNone\u001b[39;00m:\n",
      "\u001b[0;31mNotADirectoryError\u001b[0m: [Errno 20] Not a directory: '/Users/jiho/Lab/kubs/data/raw/kospi/정관/095570_AJ네트웍스.html/20240320001795.zip'"
     ]
    },
    {
     "name": "stdout",
     "output_type": "stream",
     "text": [
      "⠋ Downloading 20240320001795.zip "
     ]
    }
   ],
   "source": [
    "dt.download_jungwan(market=\"kospi\",output_dir=f\"{DATA_PATH}/raw/{market}/정관/\")"
   ]
  }
 ],
 "metadata": {
  "kernelspec": {
   "display_name": "gov_feature",
   "language": "python",
   "name": "python3"
  },
  "language_info": {
   "codemirror_mode": {
    "name": "ipython",
    "version": 3
   },
   "file_extension": ".py",
   "mimetype": "text/x-python",
   "name": "python",
   "nbconvert_exporter": "python",
   "pygments_lexer": "ipython3",
   "version": "3.12.4"
  }
 },
 "nbformat": 4,
 "nbformat_minor": 2
}
