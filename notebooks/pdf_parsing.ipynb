{
 "cells": [
  {
   "cell_type": "markdown",
   "metadata": {},
   "source": [
    "###  Read the PDF"
   ]
  },
  {
   "cell_type": "code",
   "execution_count": 7,
   "metadata": {},
   "outputs": [],
   "source": [
    "import fitz  # PyMuPDF\n",
    "import pikepdf\n",
    "import os\n",
    "import tqdm\n",
    "\n",
    "MARKET = \"kospi\""
   ]
  },
  {
   "cell_type": "markdown",
   "metadata": {},
   "source": [
    "## 디버깅 - 오류난 파일 체크"
   ]
  },
  {
   "cell_type": "code",
   "execution_count": null,
   "metadata": {},
   "outputs": [],
   "source": [
    "import os\n",
    "\n",
    "def list_unique_files(dir1, dir2):\n",
    "    # Get the list of files in both directories\n",
    "    files_dir1 = set(os.listdir(dir1))\n",
    "    files_dir2 = set(os.listdir(dir2))\n",
    "\n",
    "    # Find files that are in dir1 but not in dir2\n",
    "    unique_to_dir1 = files_dir1 - files_dir2\n",
    "\n",
    "    # Find files that are in dir2 but not in dir1\n",
    "    unique_to_dir2 = files_dir2 - files_dir1\n",
    "\n",
    "    # Convert sets to lists\n",
    "    unique_to_dir1 = list(unique_to_dir1)\n",
    "    unique_to_dir2 = list(unique_to_dir2)\n",
    "\n",
    "    return unique_to_dir1+ unique_to_dir2\n",
    "\n",
    "MARKET = \"kospi\"\n",
    "for year in range(2000,2025):\n",
    "    # Example usage\n",
    "    dir1 = f'/Users/jiho/Projects/kubs/data/report/{MARKET}/{year}' # path to origninal pdf files\n",
    "    dir2 = f'/Users/jiho/Projects/kubs/data/report/extracted/{MARKET}/{year}'\n",
    "\n",
    "    unique_files = list_unique_files(dir1, dir2)\n",
    "\n",
    "    print(f\"{year}. {len(unique_files)}\")\n",
    "    print(f\"{unique_files}, \")"
   ]
  },
  {
   "cell_type": "markdown",
   "metadata": {},
   "source": [
    "## PDF 페이지 추출 및 압축 함수"
   ]
  },
  {
   "cell_type": "code",
   "execution_count": 8,
   "metadata": {},
   "outputs": [],
   "source": [
    "# Function to search for a text in the PDF\n",
    "import subprocess\n",
    "\n",
    "def search_for_text(document, search_text, start_page=0):\n",
    "    for page_num in range(start_page, document.page_count):\n",
    "        page = document.load_page(page_num)\n",
    "        text = page.get_text()\n",
    "        if search_text in text:\n",
    "            return page_num\n",
    "        \n",
    "    return -1\n",
    "\n",
    "\n",
    "def compress_pdf(input_path, output_path, image_quality=10):\n",
    "    with pikepdf.open(input_path) as pdf:\n",
    "        # Iterate over all the images in the PDF and compress them\n",
    "        for page in pdf.pages:\n",
    "            for image in page.images:\n",
    "                with pdf.open_image(image) as img:\n",
    "                    img.compress(pikepdf.ImageFormat.JPEG, quality=image_quality)\n",
    "        pdf.save(output_path)\n",
    "\n",
    "\n",
    "\n",
    "def compress_pdf_with_ghostscript(input_path, output_path):\n",
    "    gs_command = [\n",
    "        \"gs\",\n",
    "        \"-sDEVICE=pdfwrite\",\n",
    "        \"-dCompatibilityLevel=1.4\",\n",
    "        \"-dPDFSETTINGS=/screen\",\n",
    "        \"-dNOPAUSE\",\n",
    "        \"-dQUIET\",\n",
    "        \"-dBATCH\",\n",
    "        f\"-sOutputFile={output_path}\",\n",
    "        input_path\n",
    "    ]\n",
    "    subprocess.run(gs_command)\n",
    "\n",
    "\n",
    "def extract_pages(pdf_path, output_path, start_tag, end_tag):\n",
    "    # Open the original PDF\n",
    "    document = fitz.open(pdf_path)\n",
    "\n",
    "    # Print the number of pages\n",
    "    #print(f\"Number of pages: {document.page_count}\")\n",
    "\n",
    "    # Create a new PDF\n",
    "    new_document = fitz.open()\n",
    "\n",
    "    # Find the start of the relevant section, starting from page 3 (index 2)\n",
    "    start_page = search_for_text(document, start_tag, start_page=5)\n",
    "\n",
    "    if start_page == -1:\n",
    "        print(f\"Start tag '{start_tag}' not found.\")\n",
    "        return\n",
    "\n",
    "    # Find the end of the relevant section, starting from the page after the start page\n",
    "    end_page = search_for_text(document, end_tag, start_page=start_page + 1)\n",
    "    if end_page == -1:\n",
    "        print(f\"End tag '{end_tag}' not found.\")\n",
    "        return\n",
    "\n",
    "    # Add the specified pages to the new PDF\n",
    "    for page_num in range(start_page, end_page + 1):\n",
    "        new_document.insert_pdf(document, from_page=page_num, to_page=page_num)\n",
    "        \n",
    "    # Save the new PDF\n",
    "    temp_output_path = output_path.replace('.pdf', '_temp.pdf')\n",
    "    new_document.save(temp_output_path)\n",
    "    print(f\"Extracted pages {start_page} to {end_page}\")\n",
    "\n",
    "    # Optimize the PDF\n",
    "    #compress_pdf(temp_output_path, output_path, image_quality=10)\n",
    "    compress_pdf_with_ghostscript(temp_output_path, output_path)\n",
    "    \n",
    "    # Remove the temporary file\n",
    "    os.remove(temp_output_path)\n",
    "\n",
    "\n",
    "    print(f\"Optimized PDF saved as {output_path}\")\n",
    "\n",
    "    \n",
    "    if ((end_page-start_page)<1):\n",
    "        os.remove(output_path)\n",
    "        return -1\n",
    "    else :\n",
    "        return end_page-start_page\n",
    "\n",
    "\n",
    "def get_tags_for_year(year):\n",
    "    if year == 2024:\n",
    "        start_tag = \"VI. 이사회 등 회사의 기관에 관한 사항\"\n",
    "        end_tag = \"VII. 주주에 관한 사항\"\n",
    "    elif 2021 <= year <= 2023:\n",
    "        start_tag = \"VI. 이사회 등 회사의 기관에 관한 사항\"\n",
    "        end_tag = \"VII. 주주에 관한 사항\"\n",
    "    elif 2014 <= year <= 2020:\n",
    "        start_tag = \". 이사회 등 회사의 기관 및 계열회사에 관한 사항\"\n",
    "        end_tag = \". 주주에 관한 사항\"\n",
    "    elif 2009 <= year <= 2013: ## 수정\n",
    "        start_tag = \". 이사회 등 회사의 기관 및 계열회사에 관한 사항\"#\"VI. 이사회 등 회사의 기관 및 계열회사에 관한 사항\"\n",
    "        end_tag = \". 주주에 관한 사항\"\n",
    "    elif 2007 <= year <= 2008:\n",
    "        start_tag = \"V. 이사회 등 회사의 기관 및 계열회사에 관한 사항\" \n",
    "        end_tag = \"VI. 주주에 관한 사항\"\n",
    "    elif year == 2006: ## 수정\n",
    "        start_tag = \". 이사회 등 회사의 기관 및 계열회사에 관한 사항\"  ## todo : 띄어쓰기 없게 한 번 더 \n",
    "        end_tag =  \". 주주에 관한 사항\"\n",
    "    elif 2000 <= year <= 2005:\n",
    "        start_tag = \". 지배구조 및 관계회사등의 현황\"\n",
    "        end_tag = \". 주식에 관한 사항\"\n",
    "    else:\n",
    "        raise ValueError(f\"Year {year} is out of the predefined range\")\n",
    "    \n",
    "    return start_tag, end_tag\n"
   ]
  },
  {
   "cell_type": "markdown",
   "metadata": {},
   "source": [
    "## PDF Compression ver 1. 한글 너무 깨짐"
   ]
  },
  {
   "cell_type": "code",
   "execution_count": null,
   "metadata": {},
   "outputs": [],
   "source": [
    "#@ PDF COmpression ver 1. 한글 너무 깨짐\n",
    "import os\n",
    "import aspose.words as aw\n",
    "\n",
    "# Define the function to resize PDF files\n",
    "def resize_pdf(input_path, output_path, image_quality=80):\n",
    "    renderer = aw.pdf2word.fixedformats.PdfFixedRenderer()\n",
    "    pdf_read_options = aw.pdf2word.fixedformats.PdfFixedOptions()\n",
    "    pdf_read_options.image_format = aw.pdf2word.fixedformats.FixedImageFormat.JPEG\n",
    "    pdf_read_options.jpeg_quality = 90\n",
    "\n",
    "    with open(input_path, 'rb') as pdf_stream:\n",
    "        pages_stream = renderer.save_pdf_as_images(pdf_stream, pdf_read_options)\n",
    "\n",
    "    builder = aw.DocumentBuilder()\n",
    "    for i in range(len(pages_stream)):\n",
    "        max_page_dimension = 1584\n",
    "        page_setup = builder.page_setup\n",
    "        set_page_size(page_setup, max_page_dimension, max_page_dimension)\n",
    "\n",
    "        page_image = builder.insert_image(pages_stream[i])\n",
    "\n",
    "        set_page_size(page_setup, page_image.width, page_image.height)\n",
    "        page_setup.top_margin = 0\n",
    "        page_setup.left_margin = 0\n",
    "        page_setup.bottom_margin = 0\n",
    "        page_setup.right_margin = 0\n",
    "\n",
    "        if i != len(pages_stream) - 1:\n",
    "            builder.insert_break(aw.BreakType.SECTION_BREAK_NEW_PAGE)\n",
    "\n",
    "    save_options = aw.saving.PdfSaveOptions()\n",
    "    save_options.cache_background_graphics = True\n",
    "\n",
    "    builder.document.save(output_path, save_options)\n",
    "    \n",
    "\n",
    "def set_page_size(page_setup, width, height):\n",
    "    page_setup.page_width = width\n",
    "    page_setup.page_height = height\n",
    "\n",
    "# Define the function to process all PDF files in a directory\n",
    "def process_directory(directory_path):\n",
    "    for root, _, files in os.walk(directory_path):\n",
    "        for file in files:\n",
    "            if file.lower().endswith('.pdf'):\n",
    "                input_path = os.path.join(root, file)\n",
    "                output_path = os.path.join(root, f\"resized/{file}\")\n",
    "                resize_pdf(input_path, output_path)\n",
    "                print(f\"Saved to {output_path}\")\n",
    "\n",
    "\n",
    "for year in [2024]:\n",
    "    # Directory path\n",
    "    directory_path = f'/Users/jiho/Projects/kubs/data/report/extracted/kospi/{year}'\n",
    "\n",
    "    # Run the process\n",
    "    #process_directory(directory_path)"
   ]
  },
  {
   "cell_type": "code",
   "execution_count": 44,
   "metadata": {},
   "outputs": [],
   "source": [
    "def compress_pdf(input_path, output_path, image_quality=10):\n",
    "    with pikepdf.open(input_path) as pdf:\n",
    "        for page in pdf.pages:\n",
    "            page_obj = pikepdf.Page(page)\n",
    "            for image_name, image_obj in page_obj.images.items():\n",
    "                with pdf.open_image(image_obj) as img:\n",
    "                    img.save(image_obj, format='JPEG', quality=image_quality)\n",
    "        pdf.save(output_path)\n",
    "\n",
    "input_path = \"/Users/jiho/Projects/kubs/data/report/extracted/kospi/2024/001630_종근당홀딩스.pdf\"\n",
    "output_path =  \"/Users/jiho/Projects/kubs/data/001630_종근당홀딩스.pdf\"\n",
    "compress_pdf(input_path,output_path )"
   ]
  },
  {
   "cell_type": "markdown",
   "metadata": {},
   "source": [
    "## PDF Compression . ver2 추출 및 압축"
   ]
  },
  {
   "cell_type": "code",
   "execution_count": 9,
   "metadata": {},
   "outputs": [
    {
     "name": "stdout",
     "output_type": "stream",
     "text": [
      "Optimized PDF saved as /Users/jiho/Projects/kubs/data/report/extracted/kospi/2014/013890_지누스.pdf\n",
      "Processing 013360_일성건설.pdf..\n",
      "Extracted pages 47 to 55\n"
     ]
    },
    {
     "name": "stderr",
     "output_type": "stream",
     "text": [
      " 91%|█████████ | 856/945 [12:53<00:51,  1.72it/s]"
     ]
    },
    {
     "name": "stdout",
     "output_type": "stream",
     "text": [
      "Optimized PDF saved as /Users/jiho/Projects/kubs/data/report/extracted/kospi/2014/013360_일성건설.pdf\n",
      "Processing 020000_한섬.pdf..\n",
      "Extracted pages 99 to 108\n"
     ]
    },
    {
     "name": "stderr",
     "output_type": "stream",
     "text": [
      " 91%|█████████ | 857/945 [12:54<00:52,  1.67it/s]"
     ]
    },
    {
     "name": "stdout",
     "output_type": "stream",
     "text": [
      "Optimized PDF saved as /Users/jiho/Projects/kubs/data/report/extracted/kospi/2014/020000_한섬.pdf\n",
      "Processing 005440_현대지에프홀딩스.pdf..\n",
      "Extracted pages 51 to 57\n"
     ]
    },
    {
     "name": "stderr",
     "output_type": "stream",
     "text": [
      " 91%|█████████ | 858/945 [12:54<00:49,  1.77it/s]"
     ]
    },
    {
     "name": "stdout",
     "output_type": "stream",
     "text": [
      "Optimized PDF saved as /Users/jiho/Projects/kubs/data/report/extracted/kospi/2014/005440_현대지에프홀딩스.pdf\n",
      "Processing 060980_HL홀딩스.pdf..\n",
      "Extracted pages 64 to 73\n"
     ]
    },
    {
     "name": "stderr",
     "output_type": "stream",
     "text": [
      " 91%|█████████ | 859/945 [12:55<00:51,  1.67it/s]"
     ]
    },
    {
     "name": "stdout",
     "output_type": "stream",
     "text": [
      "Optimized PDF saved as /Users/jiho/Projects/kubs/data/report/extracted/kospi/2014/060980_HL홀딩스.pdf\n",
      "Processing 013520_화승코퍼레이션.pdf..\n",
      "Extracted pages 58 to 65\n"
     ]
    },
    {
     "name": "stderr",
     "output_type": "stream",
     "text": [
      " 91%|█████████ | 860/945 [12:55<00:52,  1.60it/s]"
     ]
    },
    {
     "name": "stdout",
     "output_type": "stream",
     "text": [
      "Optimized PDF saved as /Users/jiho/Projects/kubs/data/report/extracted/kospi/2014/013520_화승코퍼레이션.pdf\n",
      "Processing 005870_휴니드테크놀러지스.pdf..\n",
      "Extracted pages 49 to 52\n"
     ]
    },
    {
     "name": "stderr",
     "output_type": "stream",
     "text": [
      " 91%|█████████ | 861/945 [12:56<00:43,  1.92it/s]"
     ]
    },
    {
     "name": "stdout",
     "output_type": "stream",
     "text": [
      "Optimized PDF saved as /Users/jiho/Projects/kubs/data/report/extracted/kospi/2014/005870_휴니드테크놀러지스.pdf\n",
      "Processing 092200_디아이씨.pdf..\n",
      "Extracted pages 69 to 75\n"
     ]
    },
    {
     "name": "stderr",
     "output_type": "stream",
     "text": [
      " 91%|█████████ | 862/945 [12:56<00:41,  1.99it/s]"
     ]
    },
    {
     "name": "stdout",
     "output_type": "stream",
     "text": [
      "Optimized PDF saved as /Users/jiho/Projects/kubs/data/report/extracted/kospi/2014/092200_디아이씨.pdf\n",
      "Processing 088790_진도.pdf..\n",
      "Extracted pages 83 to 90\n"
     ]
    },
    {
     "name": "stderr",
     "output_type": "stream",
     "text": [
      " 91%|█████████▏| 863/945 [12:57<00:42,  1.92it/s]"
     ]
    },
    {
     "name": "stdout",
     "output_type": "stream",
     "text": [
      "Optimized PDF saved as /Users/jiho/Projects/kubs/data/report/extracted/kospi/2014/088790_진도.pdf\n",
      "Processing [정정]025560_미래산업.pdf..\n",
      "Extracted pages 29 to 35\n"
     ]
    },
    {
     "name": "stderr",
     "output_type": "stream",
     "text": [
      " 91%|█████████▏| 864/945 [12:57<00:40,  2.01it/s]"
     ]
    },
    {
     "name": "stdout",
     "output_type": "stream",
     "text": [
      "Optimized PDF saved as /Users/jiho/Projects/kubs/data/report/extracted/kospi/2014/[정정]025560_미래산업.pdf\n",
      "Processing [정정]005440_현대지에프홀딩스.pdf..\n",
      "Extracted pages 61 to 67\n"
     ]
    },
    {
     "name": "stderr",
     "output_type": "stream",
     "text": [
      " 92%|█████████▏| 865/945 [12:58<00:39,  2.02it/s]"
     ]
    },
    {
     "name": "stdout",
     "output_type": "stream",
     "text": [
      "Optimized PDF saved as /Users/jiho/Projects/kubs/data/report/extracted/kospi/2014/[정정]005440_현대지에프홀딩스.pdf\n",
      "Processing [정정]025750_한솔홈데코.pdf..\n",
      "Extracted pages 91 to 96\n"
     ]
    },
    {
     "name": "stderr",
     "output_type": "stream",
     "text": [
      " 92%|█████████▏| 866/945 [12:58<00:38,  2.03it/s]"
     ]
    },
    {
     "name": "stdout",
     "output_type": "stream",
     "text": [
      "Optimized PDF saved as /Users/jiho/Projects/kubs/data/report/extracted/kospi/2014/[정정]025750_한솔홈데코.pdf\n",
      "Processing [정정]005870_휴니드테크놀러지스.pdf..\n",
      "Extracted pages 53 to 56\n"
     ]
    },
    {
     "name": "stderr",
     "output_type": "stream",
     "text": [
      " 92%|█████████▏| 867/945 [12:59<00:36,  2.11it/s]"
     ]
    },
    {
     "name": "stdout",
     "output_type": "stream",
     "text": [
      "Optimized PDF saved as /Users/jiho/Projects/kubs/data/report/extracted/kospi/2014/[정정]005870_휴니드테크놀러지스.pdf\n",
      "Processing [정정]008730_율촌화학.pdf..\n",
      "Extracted pages 63 to 71\n"
     ]
    },
    {
     "name": "stderr",
     "output_type": "stream",
     "text": [
      " 92%|█████████▏| 868/945 [12:59<00:38,  2.01it/s]"
     ]
    },
    {
     "name": "stdout",
     "output_type": "stream",
     "text": [
      "Optimized PDF saved as /Users/jiho/Projects/kubs/data/report/extracted/kospi/2014/[정정]008730_율촌화학.pdf\n",
      "Processing 011300_성안머티리얼스.pdf..\n",
      "Extracted pages 98 to 101\n"
     ]
    },
    {
     "name": "stderr",
     "output_type": "stream",
     "text": [
      " 92%|█████████▏| 869/945 [12:59<00:34,  2.18it/s]"
     ]
    },
    {
     "name": "stdout",
     "output_type": "stream",
     "text": [
      "Optimized PDF saved as /Users/jiho/Projects/kubs/data/report/extracted/kospi/2014/011300_성안머티리얼스.pdf\n",
      "Processing 036420_콘텐트리중앙.pdf..\n",
      "Extracted pages 43 to 50\n"
     ]
    },
    {
     "name": "stderr",
     "output_type": "stream",
     "text": [
      " 92%|█████████▏| 870/945 [13:00<00:36,  2.05it/s]"
     ]
    },
    {
     "name": "stdout",
     "output_type": "stream",
     "text": [
      "Optimized PDF saved as /Users/jiho/Projects/kubs/data/report/extracted/kospi/2014/036420_콘텐트리중앙.pdf\n",
      "Processing [정정]005690_파미셀.pdf..\n",
      "Extracted pages 7 to 48\n"
     ]
    },
    {
     "name": "stderr",
     "output_type": "stream",
     "text": [
      " 92%|█████████▏| 871/945 [13:03<01:23,  1.13s/it]"
     ]
    },
    {
     "name": "stdout",
     "output_type": "stream",
     "text": [
      "Optimized PDF saved as /Users/jiho/Projects/kubs/data/report/extracted/kospi/2014/[정정]005690_파미셀.pdf\n",
      "Processing [정정]020760_일진디스플.pdf..\n",
      "Extracted pages 55 to 60\n"
     ]
    },
    {
     "name": "stderr",
     "output_type": "stream",
     "text": [
      " 92%|█████████▏| 872/945 [13:03<01:06,  1.09it/s]"
     ]
    },
    {
     "name": "stdout",
     "output_type": "stream",
     "text": [
      "Optimized PDF saved as /Users/jiho/Projects/kubs/data/report/extracted/kospi/2014/[정정]020760_일진디스플.pdf\n",
      "Processing 130660_한전산업.pdf..\n",
      "Extracted pages 57 to 67\n"
     ]
    },
    {
     "name": "stderr",
     "output_type": "stream",
     "text": [
      " 92%|█████████▏| 873/945 [13:04<01:02,  1.14it/s]"
     ]
    },
    {
     "name": "stdout",
     "output_type": "stream",
     "text": [
      "Optimized PDF saved as /Users/jiho/Projects/kubs/data/report/extracted/kospi/2014/130660_한전산업.pdf\n",
      "Processing [정정]019170_신풍제약.pdf..\n",
      "Extracted pages 84 to 89\n"
     ]
    },
    {
     "name": "stderr",
     "output_type": "stream",
     "text": [
      " 92%|█████████▏| 874/945 [13:04<00:53,  1.34it/s]"
     ]
    },
    {
     "name": "stdout",
     "output_type": "stream",
     "text": [
      "Optimized PDF saved as /Users/jiho/Projects/kubs/data/report/extracted/kospi/2014/[정정]019170_신풍제약.pdf\n",
      "Processing 018470_조일알미늄.pdf..\n",
      "Extracted pages 37 to 44\n"
     ]
    },
    {
     "name": "stderr",
     "output_type": "stream",
     "text": [
      " 93%|█████████▎| 875/945 [13:05<00:46,  1.51it/s]"
     ]
    },
    {
     "name": "stdout",
     "output_type": "stream",
     "text": [
      "Optimized PDF saved as /Users/jiho/Projects/kubs/data/report/extracted/kospi/2014/018470_조일알미늄.pdf\n",
      "Processing 015230_대창단조.pdf..\n",
      "Extracted pages 39 to 44\n"
     ]
    },
    {
     "name": "stderr",
     "output_type": "stream",
     "text": [
      " 93%|█████████▎| 876/945 [13:05<00:40,  1.72it/s]"
     ]
    },
    {
     "name": "stdout",
     "output_type": "stream",
     "text": [
      "Optimized PDF saved as /Users/jiho/Projects/kubs/data/report/extracted/kospi/2014/015230_대창단조.pdf\n",
      "Processing 002070_비비안.pdf..\n",
      "Extracted pages 96 to 102\n"
     ]
    },
    {
     "name": "stderr",
     "output_type": "stream",
     "text": [
      " 93%|█████████▎| 877/945 [13:06<00:38,  1.78it/s]"
     ]
    },
    {
     "name": "stdout",
     "output_type": "stream",
     "text": [
      "Optimized PDF saved as /Users/jiho/Projects/kubs/data/report/extracted/kospi/2014/002070_비비안.pdf\n",
      "Processing [정정]005490_POSCO홀딩스.pdf..\n",
      "Extracted pages 150 to 180\n"
     ]
    },
    {
     "name": "stderr",
     "output_type": "stream",
     "text": [
      " 93%|█████████▎| 878/945 [13:08<01:03,  1.05it/s]"
     ]
    },
    {
     "name": "stdout",
     "output_type": "stream",
     "text": [
      "Optimized PDF saved as /Users/jiho/Projects/kubs/data/report/extracted/kospi/2014/[정정]005490_POSCO홀딩스.pdf\n",
      "Processing 001260_남광토건.pdf..\n",
      "Extracted pages 62 to 66\n"
     ]
    },
    {
     "name": "stderr",
     "output_type": "stream",
     "text": [
      " 93%|█████████▎| 879/945 [13:08<00:51,  1.27it/s]"
     ]
    },
    {
     "name": "stdout",
     "output_type": "stream",
     "text": [
      "Optimized PDF saved as /Users/jiho/Projects/kubs/data/report/extracted/kospi/2014/001260_남광토건.pdf\n",
      "Processing 003610_방림.pdf..\n",
      "Extracted pages 57 to 62\n"
     ]
    },
    {
     "name": "stderr",
     "output_type": "stream",
     "text": [
      " 93%|█████████▎| 880/945 [13:08<00:44,  1.47it/s]"
     ]
    },
    {
     "name": "stdout",
     "output_type": "stream",
     "text": [
      "Optimized PDF saved as /Users/jiho/Projects/kubs/data/report/extracted/kospi/2014/003610_방림.pdf\n",
      "Processing 017370_우신시스템.pdf..\n",
      "Extracted pages 49 to 53\n"
     ]
    },
    {
     "name": "stderr",
     "output_type": "stream",
     "text": [
      " 93%|█████████▎| 881/945 [13:09<00:37,  1.70it/s]"
     ]
    },
    {
     "name": "stdout",
     "output_type": "stream",
     "text": [
      "Optimized PDF saved as /Users/jiho/Projects/kubs/data/report/extracted/kospi/2014/017370_우신시스템.pdf\n",
      "Processing 066970_엘앤에프.pdf..\n",
      "Extracted pages 47 to 55\n"
     ]
    },
    {
     "name": "stderr",
     "output_type": "stream",
     "text": [
      " 93%|█████████▎| 882/945 [13:09<00:37,  1.67it/s]"
     ]
    },
    {
     "name": "stdout",
     "output_type": "stream",
     "text": [
      "Optimized PDF saved as /Users/jiho/Projects/kubs/data/report/extracted/kospi/2014/066970_엘앤에프.pdf\n",
      "Processing 009770_삼정펄프.pdf..\n",
      "Extracted pages 33 to 35\n"
     ]
    },
    {
     "name": "stderr",
     "output_type": "stream",
     "text": [
      " 93%|█████████▎| 883/945 [13:10<00:30,  2.03it/s]"
     ]
    },
    {
     "name": "stdout",
     "output_type": "stream",
     "text": [
      "Optimized PDF saved as /Users/jiho/Projects/kubs/data/report/extracted/kospi/2014/009770_삼정펄프.pdf\n",
      "Processing 071320_지역난방공사.pdf..\n",
      "Extracted pages 66 to 78\n"
     ]
    },
    {
     "name": "stderr",
     "output_type": "stream",
     "text": [
      " 94%|█████████▎| 884/945 [13:10<00:37,  1.63it/s]"
     ]
    },
    {
     "name": "stdout",
     "output_type": "stream",
     "text": [
      "Optimized PDF saved as /Users/jiho/Projects/kubs/data/report/extracted/kospi/2014/071320_지역난방공사.pdf\n",
      "Processing 016710_대성홀딩스.pdf..\n",
      "Extracted pages 127 to 138\n"
     ]
    },
    {
     "name": "stderr",
     "output_type": "stream",
     "text": [
      " 94%|█████████▎| 885/945 [13:11<00:41,  1.46it/s]"
     ]
    },
    {
     "name": "stdout",
     "output_type": "stream",
     "text": [
      "Optimized PDF saved as /Users/jiho/Projects/kubs/data/report/extracted/kospi/2014/016710_대성홀딩스.pdf\n",
      "Processing 033180_KH 필룩스.pdf..\n",
      "Extracted pages 5 to 74\n"
     ]
    },
    {
     "name": "stderr",
     "output_type": "stream",
     "text": [
      " 94%|█████████▍| 886/945 [13:15<01:35,  1.61s/it]"
     ]
    },
    {
     "name": "stdout",
     "output_type": "stream",
     "text": [
      "Optimized PDF saved as /Users/jiho/Projects/kubs/data/report/extracted/kospi/2014/033180_KH 필룩스.pdf\n",
      "Processing 004560_현대비앤지스틸.pdf..\n",
      "Extracted pages 70 to 78\n"
     ]
    },
    {
     "name": "stderr",
     "output_type": "stream",
     "text": [
      " 94%|█████████▍| 887/945 [13:16<01:15,  1.31s/it]"
     ]
    },
    {
     "name": "stdout",
     "output_type": "stream",
     "text": [
      "Optimized PDF saved as /Users/jiho/Projects/kubs/data/report/extracted/kospi/2014/004560_현대비앤지스틸.pdf\n",
      "Processing [정정]058730_다스코.pdf..\n",
      "Extracted pages 54 to 59\n"
     ]
    },
    {
     "name": "stderr",
     "output_type": "stream",
     "text": [
      " 94%|█████████▍| 888/945 [13:16<00:59,  1.04s/it]"
     ]
    },
    {
     "name": "stdout",
     "output_type": "stream",
     "text": [
      "Optimized PDF saved as /Users/jiho/Projects/kubs/data/report/extracted/kospi/2014/[정정]058730_다스코.pdf\n",
      "Processing 078000_텔코웨어.pdf..\n",
      "Extracted pages 64 to 68\n"
     ]
    },
    {
     "name": "stderr",
     "output_type": "stream",
     "text": [
      " 94%|█████████▍| 889/945 [13:17<00:47,  1.19it/s]"
     ]
    },
    {
     "name": "stdout",
     "output_type": "stream",
     "text": [
      "Optimized PDF saved as /Users/jiho/Projects/kubs/data/report/extracted/kospi/2014/078000_텔코웨어.pdf\n",
      "Processing 008500_일정실업.pdf..\n",
      "Extracted pages 33 to 37\n"
     ]
    },
    {
     "name": "stderr",
     "output_type": "stream",
     "text": [
      " 94%|█████████▍| 890/945 [13:17<00:37,  1.45it/s]"
     ]
    },
    {
     "name": "stdout",
     "output_type": "stream",
     "text": [
      "Optimized PDF saved as /Users/jiho/Projects/kubs/data/report/extracted/kospi/2014/008500_일정실업.pdf\n",
      "Processing 163560_동일고무벨트.pdf..\n",
      "Extracted pages 37 to 41\n"
     ]
    },
    {
     "name": "stderr",
     "output_type": "stream",
     "text": [
      " 94%|█████████▍| 891/945 [13:17<00:30,  1.78it/s]"
     ]
    },
    {
     "name": "stdout",
     "output_type": "stream",
     "text": [
      "Optimized PDF saved as /Users/jiho/Projects/kubs/data/report/extracted/kospi/2014/163560_동일고무벨트.pdf\n",
      "Processing 000670_영풍.pdf..\n",
      "Extracted pages 75 to 79\n"
     ]
    },
    {
     "name": "stderr",
     "output_type": "stream",
     "text": [
      " 94%|█████████▍| 892/945 [13:18<00:27,  1.92it/s]"
     ]
    },
    {
     "name": "stdout",
     "output_type": "stream",
     "text": [
      "Optimized PDF saved as /Users/jiho/Projects/kubs/data/report/extracted/kospi/2014/000670_영풍.pdf\n",
      "Processing [정정]019440_세아특수강.pdf..\n",
      "Extracted pages 48 to 58\n"
     ]
    },
    {
     "name": "stderr",
     "output_type": "stream",
     "text": [
      " 94%|█████████▍| 893/945 [13:18<00:31,  1.63it/s]"
     ]
    },
    {
     "name": "stdout",
     "output_type": "stream",
     "text": [
      "Optimized PDF saved as /Users/jiho/Projects/kubs/data/report/extracted/kospi/2014/[정정]019440_세아특수강.pdf\n",
      "Processing [정정]015590_KIB플러그에너지.pdf..\n",
      "Extracted pages 48 to 53\n"
     ]
    },
    {
     "name": "stderr",
     "output_type": "stream",
     "text": [
      " 95%|█████████▍| 894/945 [13:19<00:28,  1.82it/s]"
     ]
    },
    {
     "name": "stdout",
     "output_type": "stream",
     "text": [
      "Optimized PDF saved as /Users/jiho/Projects/kubs/data/report/extracted/kospi/2014/[정정]015590_KIB플러그에너지.pdf\n",
      "Processing 002200_한국수출포장공업.pdf..\n",
      "Extracted pages 24 to 26\n"
     ]
    },
    {
     "name": "stderr",
     "output_type": "stream",
     "text": [
      " 95%|█████████▍| 895/945 [13:19<00:22,  2.19it/s]"
     ]
    },
    {
     "name": "stdout",
     "output_type": "stream",
     "text": [
      "Optimized PDF saved as /Users/jiho/Projects/kubs/data/report/extracted/kospi/2014/002200_한국수출포장공업.pdf\n",
      "Processing 017180_명문제약.pdf..\n",
      "Extracted pages 96 to 104\n"
     ]
    },
    {
     "name": "stderr",
     "output_type": "stream",
     "text": [
      " 95%|█████████▍| 896/945 [13:20<00:25,  1.89it/s]"
     ]
    },
    {
     "name": "stdout",
     "output_type": "stream",
     "text": [
      "Optimized PDF saved as /Users/jiho/Projects/kubs/data/report/extracted/kospi/2014/017180_명문제약.pdf\n",
      "Processing 012320_경동인베스트.pdf..\n",
      "Extracted pages 70 to 79\n"
     ]
    },
    {
     "name": "stderr",
     "output_type": "stream",
     "text": [
      " 95%|█████████▍| 897/945 [13:20<00:26,  1.80it/s]"
     ]
    },
    {
     "name": "stdout",
     "output_type": "stream",
     "text": [
      "Optimized PDF saved as /Users/jiho/Projects/kubs/data/report/extracted/kospi/2014/012320_경동인베스트.pdf\n",
      "Processing 071050_한국금융지주.pdf..\n",
      "Extracted pages 109 to 122\n"
     ]
    },
    {
     "name": "stderr",
     "output_type": "stream",
     "text": [
      " 95%|█████████▌| 898/945 [13:21<00:32,  1.45it/s]"
     ]
    },
    {
     "name": "stdout",
     "output_type": "stream",
     "text": [
      "Optimized PDF saved as /Users/jiho/Projects/kubs/data/report/extracted/kospi/2014/071050_한국금융지주.pdf\n",
      "Processing 002880_대유에이텍.pdf..\n",
      "Extracted pages 5 to 80\n"
     ]
    },
    {
     "name": "stderr",
     "output_type": "stream",
     "text": [
      " 95%|█████████▌| 899/945 [13:26<01:27,  1.89s/it]"
     ]
    },
    {
     "name": "stdout",
     "output_type": "stream",
     "text": [
      "Optimized PDF saved as /Users/jiho/Projects/kubs/data/report/extracted/kospi/2014/002880_대유에이텍.pdf\n",
      "Processing [정정]128820_대성산업.pdf..\n",
      "Extracted pages 338 to 352\n"
     ]
    },
    {
     "name": "stderr",
     "output_type": "stream",
     "text": [
      " 95%|█████████▌| 900/945 [13:27<01:15,  1.67s/it]"
     ]
    },
    {
     "name": "stdout",
     "output_type": "stream",
     "text": [
      "Optimized PDF saved as /Users/jiho/Projects/kubs/data/report/extracted/kospi/2014/[정정]128820_대성산업.pdf\n",
      "Processing 005300_롯데칠성음료.pdf..\n",
      "Extracted pages 5 to 77\n"
     ]
    },
    {
     "name": "stderr",
     "output_type": "stream",
     "text": [
      " 95%|█████████▌| 901/945 [13:32<01:50,  2.51s/it]"
     ]
    },
    {
     "name": "stdout",
     "output_type": "stream",
     "text": [
      "Optimized PDF saved as /Users/jiho/Projects/kubs/data/report/extracted/kospi/2014/005300_롯데칠성음료.pdf\n",
      "Processing [정정]018260_삼성에스디에스.pdf..\n",
      "Extracted pages 41 to 72\n"
     ]
    },
    {
     "name": "stderr",
     "output_type": "stream",
     "text": [
      " 95%|█████████▌| 902/945 [13:34<01:40,  2.35s/it]"
     ]
    },
    {
     "name": "stdout",
     "output_type": "stream",
     "text": [
      "Optimized PDF saved as /Users/jiho/Projects/kubs/data/report/extracted/kospi/2014/[정정]018260_삼성에스디에스.pdf\n",
      "Processing 005960_동부건설.pdf..\n",
      "Extracted pages 7 to 163\n"
     ]
    },
    {
     "name": "stderr",
     "output_type": "stream",
     "text": [
      " 96%|█████████▌| 903/945 [13:43<03:12,  4.59s/it]"
     ]
    },
    {
     "name": "stdout",
     "output_type": "stream",
     "text": [
      "Optimized PDF saved as /Users/jiho/Projects/kubs/data/report/extracted/kospi/2014/005960_동부건설.pdf\n",
      "Processing [정정]900140_엘브이엠씨.pdf..\n",
      "Extracted pages 67 to 74\n"
     ]
    },
    {
     "name": "stderr",
     "output_type": "stream",
     "text": [
      " 96%|█████████▌| 904/945 [13:44<02:18,  3.37s/it]"
     ]
    },
    {
     "name": "stdout",
     "output_type": "stream",
     "text": [
      "Optimized PDF saved as /Users/jiho/Projects/kubs/data/report/extracted/kospi/2014/[정정]900140_엘브이엠씨.pdf\n",
      "Processing 001470_삼부토건.pdf..\n",
      "Extracted pages 79 to 90\n"
     ]
    },
    {
     "name": "stderr",
     "output_type": "stream",
     "text": [
      " 96%|█████████▌| 905/945 [13:45<01:44,  2.62s/it]"
     ]
    },
    {
     "name": "stdout",
     "output_type": "stream",
     "text": [
      "Optimized PDF saved as /Users/jiho/Projects/kubs/data/report/extracted/kospi/2014/001470_삼부토건.pdf\n",
      "Processing [정정]097520_엠씨넥스.pdf..\n",
      "Extracted pages 74 to 78\n"
     ]
    },
    {
     "name": "stderr",
     "output_type": "stream",
     "text": [
      " 96%|█████████▌| 906/945 [13:45<01:15,  1.95s/it]"
     ]
    },
    {
     "name": "stdout",
     "output_type": "stream",
     "text": [
      "Optimized PDF saved as /Users/jiho/Projects/kubs/data/report/extracted/kospi/2014/[정정]097520_엠씨넥스.pdf\n",
      "Processing [정정]002820_SUN&L.pdf..\n",
      "Extracted pages 41 to 46\n"
     ]
    },
    {
     "name": "stderr",
     "output_type": "stream",
     "text": [
      " 96%|█████████▌| 907/945 [13:46<00:56,  1.49s/it]"
     ]
    },
    {
     "name": "stdout",
     "output_type": "stream",
     "text": [
      "Optimized PDF saved as /Users/jiho/Projects/kubs/data/report/extracted/kospi/2014/[정정]002820_SUN&L.pdf\n",
      "Processing 008490_서흥.pdf..\n",
      "Extracted pages 26 to 30\n"
     ]
    },
    {
     "name": "stderr",
     "output_type": "stream",
     "text": [
      " 96%|█████████▌| 908/945 [13:46<00:42,  1.15s/it]"
     ]
    },
    {
     "name": "stdout",
     "output_type": "stream",
     "text": [
      "Optimized PDF saved as /Users/jiho/Projects/kubs/data/report/extracted/kospi/2014/008490_서흥.pdf\n",
      "Processing 023450_동남합성.pdf..\n",
      "Extracted pages 5 to 39\n"
     ]
    },
    {
     "name": "stderr",
     "output_type": "stream",
     "text": [
      " 96%|█████████▌| 909/945 [13:48<00:50,  1.41s/it]"
     ]
    },
    {
     "name": "stdout",
     "output_type": "stream",
     "text": [
      "Optimized PDF saved as /Users/jiho/Projects/kubs/data/report/extracted/kospi/2014/023450_동남합성.pdf\n",
      "Processing [정정]103590_일진전기.pdf..\n",
      "Extracted pages 51 to 56\n"
     ]
    },
    {
     "name": "stderr",
     "output_type": "stream",
     "text": [
      " 96%|█████████▋| 910/945 [13:48<00:38,  1.11s/it]"
     ]
    },
    {
     "name": "stdout",
     "output_type": "stream",
     "text": [
      "Optimized PDF saved as /Users/jiho/Projects/kubs/data/report/extracted/kospi/2014/[정정]103590_일진전기.pdf\n",
      "Processing 002210_동성제약.pdf..\n",
      "Extracted pages 44 to 47\n"
     ]
    },
    {
     "name": "stderr",
     "output_type": "stream",
     "text": [
      " 96%|█████████▋| 911/945 [13:49<00:29,  1.16it/s]"
     ]
    },
    {
     "name": "stdout",
     "output_type": "stream",
     "text": [
      "Optimized PDF saved as /Users/jiho/Projects/kubs/data/report/extracted/kospi/2014/002210_동성제약.pdf\n",
      "Processing 001420_태원물산.pdf..\n",
      "Extracted pages 42 to 46\n"
     ]
    },
    {
     "name": "stderr",
     "output_type": "stream",
     "text": [
      " 97%|█████████▋| 912/945 [13:49<00:23,  1.40it/s]"
     ]
    },
    {
     "name": "stdout",
     "output_type": "stream",
     "text": [
      "Optimized PDF saved as /Users/jiho/Projects/kubs/data/report/extracted/kospi/2014/001420_태원물산.pdf\n",
      "Processing 039490_키움증권.pdf..\n",
      "Extracted pages 74 to 83\n"
     ]
    },
    {
     "name": "stderr",
     "output_type": "stream",
     "text": [
      " 97%|█████████▋| 913/945 [13:50<00:22,  1.40it/s]"
     ]
    },
    {
     "name": "stdout",
     "output_type": "stream",
     "text": [
      "Optimized PDF saved as /Users/jiho/Projects/kubs/data/report/extracted/kospi/2014/039490_키움증권.pdf\n",
      "Processing [정정]010120_엘에스일렉트릭.pdf..\n",
      "Extracted pages 56 to 64\n"
     ]
    },
    {
     "name": "stderr",
     "output_type": "stream",
     "text": [
      " 97%|█████████▋| 914/945 [13:50<00:20,  1.50it/s]"
     ]
    },
    {
     "name": "stdout",
     "output_type": "stream",
     "text": [
      "Optimized PDF saved as /Users/jiho/Projects/kubs/data/report/extracted/kospi/2014/[정정]010120_엘에스일렉트릭.pdf\n",
      "Processing 079160_CJ CGV.pdf..\n",
      "Extracted pages 98 to 113\n"
     ]
    },
    {
     "name": "stderr",
     "output_type": "stream",
     "text": [
      " 97%|█████████▋| 915/945 [13:51<00:23,  1.26it/s]"
     ]
    },
    {
     "name": "stdout",
     "output_type": "stream",
     "text": [
      "Optimized PDF saved as /Users/jiho/Projects/kubs/data/report/extracted/kospi/2014/079160_CJ CGV.pdf\n",
      "Processing [정정]079980_휴비스.pdf..\n",
      "Extracted pages 58 to 66\n"
     ]
    },
    {
     "name": "stderr",
     "output_type": "stream",
     "text": [
      " 97%|█████████▋| 916/945 [13:52<00:21,  1.38it/s]"
     ]
    },
    {
     "name": "stdout",
     "output_type": "stream",
     "text": [
      "Optimized PDF saved as /Users/jiho/Projects/kubs/data/report/extracted/kospi/2014/[정정]079980_휴비스.pdf\n",
      "Processing [정정]004000_롯데정밀화학.pdf..\n",
      "Extracted pages 145 to 172\n"
     ]
    },
    {
     "name": "stderr",
     "output_type": "stream",
     "text": [
      " 97%|█████████▋| 917/945 [13:54<00:28,  1.01s/it]"
     ]
    },
    {
     "name": "stdout",
     "output_type": "stream",
     "text": [
      "Optimized PDF saved as /Users/jiho/Projects/kubs/data/report/extracted/kospi/2014/[정정]004000_롯데정밀화학.pdf\n",
      "Processing 028260_삼성물산.pdf..\n",
      "Extracted pages 69 to 92\n"
     ]
    },
    {
     "name": "stderr",
     "output_type": "stream",
     "text": [
      " 97%|█████████▋| 918/945 [13:55<00:32,  1.21s/it]"
     ]
    },
    {
     "name": "stdout",
     "output_type": "stream",
     "text": [
      "Optimized PDF saved as /Users/jiho/Projects/kubs/data/report/extracted/kospi/2014/028260_삼성물산.pdf\n",
      "Processing 082740_한화엔진.pdf..\n",
      "Extracted pages 90 to 98\n"
     ]
    },
    {
     "name": "stderr",
     "output_type": "stream",
     "text": [
      " 97%|█████████▋| 919/945 [13:56<00:26,  1.03s/it]"
     ]
    },
    {
     "name": "stdout",
     "output_type": "stream",
     "text": [
      "Optimized PDF saved as /Users/jiho/Projects/kubs/data/report/extracted/kospi/2014/082740_한화엔진.pdf\n",
      "Processing 071950_코아스.pdf..\n",
      "Extracted pages 43 to 52\n"
     ]
    },
    {
     "name": "stderr",
     "output_type": "stream",
     "text": [
      " 97%|█████████▋| 920/945 [13:57<00:22,  1.10it/s]"
     ]
    },
    {
     "name": "stdout",
     "output_type": "stream",
     "text": [
      "Optimized PDF saved as /Users/jiho/Projects/kubs/data/report/extracted/kospi/2014/071950_코아스.pdf\n",
      "Processing 001560_제일연마.pdf..\n",
      "Extracted pages 5 to 62\n"
     ]
    },
    {
     "name": "stderr",
     "output_type": "stream",
     "text": [
      " 97%|█████████▋| 921/945 [14:00<00:38,  1.62s/it]"
     ]
    },
    {
     "name": "stdout",
     "output_type": "stream",
     "text": [
      "Optimized PDF saved as /Users/jiho/Projects/kubs/data/report/extracted/kospi/2014/001560_제일연마.pdf\n",
      "Processing 001070_대한방직.pdf..\n",
      "Extracted pages 82 to 87\n"
     ]
    },
    {
     "name": "stderr",
     "output_type": "stream",
     "text": [
      " 98%|█████████▊| 922/945 [14:00<00:28,  1.26s/it]"
     ]
    },
    {
     "name": "stdout",
     "output_type": "stream",
     "text": [
      "Optimized PDF saved as /Users/jiho/Projects/kubs/data/report/extracted/kospi/2014/001070_대한방직.pdf\n",
      "Processing 009450_경동나비엔.pdf..\n",
      "Extracted pages 29 to 34\n"
     ]
    },
    {
     "name": "stderr",
     "output_type": "stream",
     "text": [
      " 98%|█████████▊| 923/945 [14:01<00:21,  1.01it/s]"
     ]
    },
    {
     "name": "stdout",
     "output_type": "stream",
     "text": [
      "Optimized PDF saved as /Users/jiho/Projects/kubs/data/report/extracted/kospi/2014/009450_경동나비엔.pdf\n",
      "Processing [정정]003670_포스코퓨처엠.pdf..\n",
      "Extracted pages 59 to 65\n"
     ]
    },
    {
     "name": "stderr",
     "output_type": "stream",
     "text": [
      " 98%|█████████▊| 924/945 [14:01<00:17,  1.19it/s]"
     ]
    },
    {
     "name": "stdout",
     "output_type": "stream",
     "text": [
      "Optimized PDF saved as /Users/jiho/Projects/kubs/data/report/extracted/kospi/2014/[정정]003670_포스코퓨처엠.pdf\n",
      "Processing [정정]001440_대한전선.pdf..\n",
      "Extracted pages 51 to 57\n"
     ]
    },
    {
     "name": "stderr",
     "output_type": "stream",
     "text": [
      " 98%|█████████▊| 925/945 [14:02<00:14,  1.35it/s]"
     ]
    },
    {
     "name": "stdout",
     "output_type": "stream",
     "text": [
      "Optimized PDF saved as /Users/jiho/Projects/kubs/data/report/extracted/kospi/2014/[정정]001440_대한전선.pdf\n",
      "Processing 003060_에이프로젠바이오로직스.pdf..\n",
      "Extracted pages 30 to 35\n"
     ]
    },
    {
     "name": "stderr",
     "output_type": "stream",
     "text": [
      " 98%|█████████▊| 926/945 [14:02<00:12,  1.58it/s]"
     ]
    },
    {
     "name": "stdout",
     "output_type": "stream",
     "text": [
      "Optimized PDF saved as /Users/jiho/Projects/kubs/data/report/extracted/kospi/2014/003060_에이프로젠바이오로직스.pdf\n",
      "Processing 009470_삼화전기.pdf..\n",
      "Extracted pages 73 to 78\n"
     ]
    },
    {
     "name": "stderr",
     "output_type": "stream",
     "text": [
      " 98%|█████████▊| 927/945 [14:02<00:10,  1.73it/s]"
     ]
    },
    {
     "name": "stdout",
     "output_type": "stream",
     "text": [
      "Optimized PDF saved as /Users/jiho/Projects/kubs/data/report/extracted/kospi/2014/009470_삼화전기.pdf\n",
      "Processing 145270_케이탑리츠.pdf..\n",
      "Extracted pages 78 to 81\n"
     ]
    },
    {
     "name": "stderr",
     "output_type": "stream",
     "text": [
      " 98%|█████████▊| 928/945 [14:03<00:08,  2.01it/s]"
     ]
    },
    {
     "name": "stdout",
     "output_type": "stream",
     "text": [
      "Optimized PDF saved as /Users/jiho/Projects/kubs/data/report/extracted/kospi/2014/145270_케이탑리츠.pdf\n",
      "Processing 030190_NICE평가정보.pdf..\n",
      "Extracted pages 62 to 68\n"
     ]
    },
    {
     "name": "stderr",
     "output_type": "stream",
     "text": [
      " 98%|█████████▊| 929/945 [14:03<00:08,  2.00it/s]"
     ]
    },
    {
     "name": "stdout",
     "output_type": "stream",
     "text": [
      "Optimized PDF saved as /Users/jiho/Projects/kubs/data/report/extracted/kospi/2014/030190_NICE평가정보.pdf\n",
      "Processing 001390_KG케미칼.pdf..\n",
      "Extracted pages 73 to 82\n"
     ]
    },
    {
     "name": "stderr",
     "output_type": "stream",
     "text": [
      " 98%|█████████▊| 930/945 [14:04<00:08,  1.79it/s]"
     ]
    },
    {
     "name": "stdout",
     "output_type": "stream",
     "text": [
      "Optimized PDF saved as /Users/jiho/Projects/kubs/data/report/extracted/kospi/2014/001390_KG케미칼.pdf\n",
      "Processing [정정]047040_대우건설.pdf..\n",
      "Extracted pages 12 to 91\n"
     ]
    },
    {
     "name": "stderr",
     "output_type": "stream",
     "text": [
      " 99%|█████████▊| 931/945 [14:09<00:26,  1.91s/it]"
     ]
    },
    {
     "name": "stdout",
     "output_type": "stream",
     "text": [
      "Optimized PDF saved as /Users/jiho/Projects/kubs/data/report/extracted/kospi/2014/[정정]047040_대우건설.pdf\n",
      "Processing 090080_평화산업.pdf..\n",
      "Extracted pages 32 to 37\n"
     ]
    },
    {
     "name": "stderr",
     "output_type": "stream",
     "text": [
      " 99%|█████████▊| 932/945 [14:09<00:18,  1.46s/it]"
     ]
    },
    {
     "name": "stdout",
     "output_type": "stream",
     "text": [
      "Optimized PDF saved as /Users/jiho/Projects/kubs/data/report/extracted/kospi/2014/090080_평화산업.pdf\n",
      "Processing 092220_KEC.pdf..\n",
      "Extracted pages 78 to 84\n"
     ]
    },
    {
     "name": "stderr",
     "output_type": "stream",
     "text": [
      " 99%|█████████▊| 933/945 [14:10<00:14,  1.17s/it]"
     ]
    },
    {
     "name": "stdout",
     "output_type": "stream",
     "text": [
      "Optimized PDF saved as /Users/jiho/Projects/kubs/data/report/extracted/kospi/2014/092220_KEC.pdf\n",
      "Processing [정정]007660_이수페타시스.pdf..\n",
      "Extracted pages 74 to 89\n"
     ]
    },
    {
     "name": "stderr",
     "output_type": "stream",
     "text": [
      " 99%|█████████▉| 934/945 [14:11<00:12,  1.12s/it]"
     ]
    },
    {
     "name": "stdout",
     "output_type": "stream",
     "text": [
      "Optimized PDF saved as /Users/jiho/Projects/kubs/data/report/extracted/kospi/2014/[정정]007660_이수페타시스.pdf\n",
      "Processing [정정]000880_한화.pdf..\n",
      "Extracted pages 307 to 326\n"
     ]
    },
    {
     "name": "stderr",
     "output_type": "stream",
     "text": [
      " 99%|█████████▉| 935/945 [14:13<00:12,  1.26s/it]"
     ]
    },
    {
     "name": "stdout",
     "output_type": "stream",
     "text": [
      "Optimized PDF saved as /Users/jiho/Projects/kubs/data/report/extracted/kospi/2014/[정정]000880_한화.pdf\n",
      "Processing [정정]000490_대동.pdf..\n",
      "Extracted pages 103 to 111\n"
     ]
    },
    {
     "name": "stderr",
     "output_type": "stream",
     "text": [
      " 99%|█████████▉| 936/945 [14:13<00:09,  1.08s/it]"
     ]
    },
    {
     "name": "stdout",
     "output_type": "stream",
     "text": [
      "Optimized PDF saved as /Users/jiho/Projects/kubs/data/report/extracted/kospi/2014/[정정]000490_대동.pdf\n",
      "Processing 114090_GKL.pdf..\n",
      "Extracted pages 47 to 55\n"
     ]
    },
    {
     "name": "stderr",
     "output_type": "stream",
     "text": [
      " 99%|█████████▉| 937/945 [14:14<00:07,  1.07it/s]"
     ]
    },
    {
     "name": "stdout",
     "output_type": "stream",
     "text": [
      "Optimized PDF saved as /Users/jiho/Projects/kubs/data/report/extracted/kospi/2014/114090_GKL.pdf\n",
      "Processing 006570_대림통상.pdf..\n",
      "Extracted pages 58 to 66\n"
     ]
    },
    {
     "name": "stderr",
     "output_type": "stream",
     "text": [
      " 99%|█████████▉| 938/945 [14:14<00:05,  1.20it/s]"
     ]
    },
    {
     "name": "stdout",
     "output_type": "stream",
     "text": [
      "Optimized PDF saved as /Users/jiho/Projects/kubs/data/report/extracted/kospi/2014/006570_대림통상.pdf\n",
      "Processing [정정]008930_한미사이언스.pdf..\n",
      "Extracted pages 54 to 57\n"
     ]
    },
    {
     "name": "stderr",
     "output_type": "stream",
     "text": [
      " 99%|█████████▉| 939/945 [14:15<00:04,  1.47it/s]"
     ]
    },
    {
     "name": "stdout",
     "output_type": "stream",
     "text": [
      "Optimized PDF saved as /Users/jiho/Projects/kubs/data/report/extracted/kospi/2014/[정정]008930_한미사이언스.pdf\n",
      "Processing 007120_미래아이앤지.pdf..\n",
      "Extracted pages 62 to 66\n"
     ]
    },
    {
     "name": "stderr",
     "output_type": "stream",
     "text": [
      " 99%|█████████▉| 940/945 [14:15<00:02,  1.71it/s]"
     ]
    },
    {
     "name": "stdout",
     "output_type": "stream",
     "text": [
      "Optimized PDF saved as /Users/jiho/Projects/kubs/data/report/extracted/kospi/2014/007120_미래아이앤지.pdf\n",
      "Processing 100250_진양홀딩스.pdf..\n",
      "Extracted pages 63 to 69\n"
     ]
    },
    {
     "name": "stderr",
     "output_type": "stream",
     "text": [
      "100%|█████████▉| 941/945 [14:16<00:02,  1.79it/s]"
     ]
    },
    {
     "name": "stdout",
     "output_type": "stream",
     "text": [
      "Optimized PDF saved as /Users/jiho/Projects/kubs/data/report/extracted/kospi/2014/100250_진양홀딩스.pdf\n",
      "Processing 002310_아세아제지.pdf..\n",
      "Extracted pages 5 to 94\n"
     ]
    },
    {
     "name": "stderr",
     "output_type": "stream",
     "text": [
      "100%|█████████▉| 942/945 [14:20<00:05,  1.67s/it]"
     ]
    },
    {
     "name": "stdout",
     "output_type": "stream",
     "text": [
      "Optimized PDF saved as /Users/jiho/Projects/kubs/data/report/extracted/kospi/2014/002310_아세아제지.pdf\n",
      "Processing 002990_금호건설.pdf..\n",
      "Extracted pages 82 to 91\n"
     ]
    },
    {
     "name": "stderr",
     "output_type": "stream",
     "text": [
      "100%|█████████▉| 943/945 [14:20<00:02,  1.37s/it]"
     ]
    },
    {
     "name": "stdout",
     "output_type": "stream",
     "text": [
      "Optimized PDF saved as /Users/jiho/Projects/kubs/data/report/extracted/kospi/2014/002990_금호건설.pdf\n",
      "Processing [정정]005360_모나미.pdf..\n",
      "Extracted pages 95 to 102\n"
     ]
    },
    {
     "name": "stderr",
     "output_type": "stream",
     "text": [
      "100%|█████████▉| 944/945 [14:21<00:01,  1.11s/it]"
     ]
    },
    {
     "name": "stdout",
     "output_type": "stream",
     "text": [
      "Optimized PDF saved as /Users/jiho/Projects/kubs/data/report/extracted/kospi/2014/[정정]005360_모나미.pdf\n",
      "Processing 019180_티에이치엔.pdf..\n",
      "Extracted pages 61 to 65\n"
     ]
    },
    {
     "name": "stderr",
     "output_type": "stream",
     "text": [
      "100%|██████████| 945/945 [14:21<00:00,  1.10it/s]"
     ]
    },
    {
     "name": "stdout",
     "output_type": "stream",
     "text": [
      "Optimized PDF saved as /Users/jiho/Projects/kubs/data/report/extracted/kospi/2014/019180_티에이치엔.pdf\n",
      "Error list saved to /Users/jiho/Projects/kubs/progress/error/kospi_extract_error_2014.txt\n"
     ]
    },
    {
     "name": "stderr",
     "output_type": "stream",
     "text": [
      "\n"
     ]
    }
   ],
   "source": [
    "import os \n",
    "import tqdm\n",
    "\n",
    "MARKET = \"kospi\"\n",
    "\n",
    "error_2006 = ['004980_성신양회.pdf', '002820_SUN&L.pdf', '070960_모나용평.pdf', '008870_금비.pdf', '000180_성창기업지주.pdf', '008040_사조동아원.pdf', '[정정]000270_기아.pdf', '008250_이건산업.pdf', '021820_세원정공.pdf', '002070_비비안.pdf', '033250_체시스.pdf', '[정정]016380_KG스틸.pdf', '001080_만호제강.pdf', '003060_에이프로젠바이오로직스.pdf', '[정정]000150_두산.pdf', '002840_미원상사.pdf', '003610_방림.pdf', '005390_신성통상.pdf', '[정정]025750_한솔홈데코.pdf', '005800_신영와코루.pdf', '[정정]021820_세원정공.pdf']\n",
    "error_2005 = ['[정정]003090_대웅.pdf', '[정정]003060_에이프로젠바이오로직스.pdf', '[정정]008040_사조동아원.pdf', '[정정]006740_영풍제지.pdf', '[정정]004720_팜젠사이언스.pdf', '[정정]033250_체시스.pdf', '004980_성신양회.pdf', '[정정]008250_이건산업.pdf', '[정정]001440_대한전선.pdf', '[정정]078930_GS.pdf', '[정정]001250_GS글로벌.pdf', '[정정]005380_현대자동차.pdf']\n",
    "error_2008 = ['[정정]049800_우진플라임.pdf', '[정정]023960_에쓰씨엔지니어링.pdf', '[정정]006490_인스코비.pdf', '[정정]016710_대성홀딩스.pdf', '[정정]004140_동방.pdf', '012600_청호ICT.pdf', '[정정]006060_화승인더스트리.pdf', '004980_성신양회.pdf', '[정정]004840_DRB동일.pdf', '[정정]007340_DN오토모티브.pdf', '[정정]005390_신성통상.pdf']\n",
    "error_2024 = ['111770_영원무역.pdf', '011330_유니켐.pdf', '009970_영원무역홀딩스.pdf', '005110_한창.pdf', '010600_웰바이오텍.pdf', '007610_선도전기.pdf', '001470_삼부토건.pdf']\n",
    "\n",
    "for year in [2006]:\n",
    "    ##range(2018, 1999, -1):\n",
    "    error_list=[]\n",
    "    input_dir = f'/Users/jiho/Projects/kubs/data/report/{MARKET}/{year}' # path to origninal pdf files\n",
    "    output_dir = f'/Users/jiho/Projects/kubs/data/report/extracted/{MARKET}/{year}' # path to save extracted pdf files\n",
    "\n",
    "    ### Make sure Directory exists\n",
    "    #try:\n",
    "    #    os.makedirs(output_dir)\n",
    "    #    print(f\"Directory '{output_dir}' created successfully\")\n",
    "    #except FileExistsError:\n",
    "    #    print(f\"Directory '{output_dir}' already exists\")\n",
    "    #except Exception as e:\n",
    "    #    print(f\"Error creating directory '{output_dir}': {e}\")\n",
    "    \n",
    "    ## Processing by year\n",
    "    tag = get_tags_for_year(year)\n",
    "    print(tag)\n",
    "    print(f\"Processing {year}..\")\n",
    "\n",
    "\n",
    "    #for filename in tqdm.tqdm(os.listdir(input_dir)):\n",
    "    for filename in tqdm.tqdm(error_2006):\n",
    "        try:\n",
    "            print(f\"Processing {filename}..\")\n",
    "            if filename.endswith(\".pdf\"):\n",
    "                pdf_path = os.path.join(input_dir, filename)\n",
    "                output_path = os.path.join(output_dir, f\"{filename}\")\n",
    "                extracted_pages = extract_pages(pdf_path, output_path, tag[0], tag[1])\n",
    "                if extracted_pages==-1:\n",
    "                    error_list.append(filename)   \n",
    "        \n",
    "        except : \n",
    "            print(f\"Error Processing {filename} \")\n",
    "            error_list.append(filename)\n",
    "\n",
    "    ## Print Error \n",
    "    error_file_path = f\"/Users/jiho/Projects/kubs/progress/error/{MARKET}_extract_error_{year}.txt\"\n",
    "    with open(error_file_path, 'w') as f:\n",
    "        for error in error_list:\n",
    "            f.write(f\"{error}\\n\")\n",
    "    print(f\"Error list saved to {error_file_path}\")\n"
   ]
  },
  {
   "cell_type": "markdown",
   "metadata": {},
   "source": [
    "## D4"
   ]
  },
  {
   "cell_type": "code",
   "execution_count": 1,
   "metadata": {},
   "outputs": [],
   "source": [
    "import fitz  # PyMuPDF\n",
    "\n",
    "def count_words_in_section(pdf_path, start_tag, end_tag):\n",
    "    # Open the PDF file\n",
    "    document = fitz.open(pdf_path)\n",
    "\n",
    "    # Initialize variables\n",
    "    start_page_num = -1\n",
    "    end_page_num = -1\n",
    "    start_pos = -1\n",
    "    end_pos = -1\n",
    "    word_count = 0\n",
    "\n",
    "\n",
    "    # Find the start and end pages and positions of the section\n",
    "    for page_num in range(2, document.page_count):\n",
    "        page = document.load_page(page_num)\n",
    "        text = page.get_text(\"text\")\n",
    "        if start_tag in text and start_page_num == -1:\n",
    "            start_page_num = page_num\n",
    "            start_pos = text.find(start_tag)\n",
    "        if end_tag in text and start_page_num != -1:\n",
    "            end_page_num = page_num\n",
    "            end_pos = text.find(end_tag)\n",
    "            break\n",
    "\n",
    "    #print(\"page_num\", start_page_num, end_page_num)\n",
    "\n",
    "    # Extract the section text, excluding tables\n",
    "    section_text = \"\"\n",
    "    if start_page_num != -1 and end_page_num != -1:\n",
    "        if start_page_num == end_page_num:\n",
    "            section_text = extract_text_excluding_tables(document.load_page(start_page_num), start_pos, end_pos)\n",
    "        else:\n",
    "            section_text += extract_text_excluding_tables(document.load_page(start_page_num), start_pos)\n",
    "            for page_num in range(start_page_num + 1, end_page_num):\n",
    "                page = document.load_page(page_num)\n",
    "                section_text += extract_text_excluding_tables(page)\n",
    "            end_page = document.load_page(end_page_num)\n",
    "            section_text += extract_text_excluding_tables(end_page, 0, end_pos)\n",
    "\n",
    "    #print(section_text)\n",
    "    # Count words in the section text\n",
    "    word_count = len(section_text.split())\n",
    "    \n",
    "    return (start_page_num, end_page_num, word_count)\n",
    "\n",
    "def extract_text_excluding_tables(page, start_pos=0, end_pos=None):\n",
    "    text_blocks = page.get_text(\"blocks\")\n",
    "    text = \"\"\n",
    "    for block in text_blocks:\n",
    "        if block[6] == 0:  # block[6] is the block type; 0 is text, 1 is image, 2 is vector, etc.\n",
    "            block_text = block[4]\n",
    "            if end_pos is not None:\n",
    "                block_text = block_text[start_pos:end_pos]\n",
    "            text += block_text\n",
    "    return text\n",
    "\n",
    "\n",
    "def extract_info_from_filename(filename):\n",
    "    parts = filename.split('_')\n",
    "    stock_code = parts[0]\n",
    "    corp_name = parts[1].replace('.pdf', '')\n",
    "    return stock_code, corp_name\n",
    "\n",
    "def get_tags_for_year(year):\n",
    "    if year == 2024:\n",
    "        start_tag = 'II. 사업의 내용'\n",
    "        end_tag = 'III. 재무에 관한 사항'\n",
    "    elif 2021 <= year <= 2023:\n",
    "        start_tag = 'II. 사업의 내용'\n",
    "        end_tag = 'III. 재무에 관한 사항'\n",
    "    elif 2014 <= year <= 2020:\n",
    "        start_tag = 'II. 사업의 내용'\n",
    "        end_tag = 'III. 재무에 관한 사항'\n",
    "    elif 2009 <= year <= 2013:\n",
    "        start_tag = 'II. 사업의 내용'\n",
    "        end_tag = 'III. 재무에 관한 사항'\n",
    "    elif 2007 <= year <= 2008:\n",
    "        start_tag = 'II. 사업의 내용'\n",
    "        end_tag = 'III. 재무에 관한 사항'\n",
    "    elif year == 2006:\n",
    "        start_tag = 'II. 사업의 내용'\n",
    "        end_tag = 'III. 재무에 관한 사항'\n",
    "    elif 2000 <= year <= 2005:\n",
    "        start_tag = 'II. 사업의 내용'\n",
    "        end_tag = 'III. 재무에 관한 사항'\n",
    "    else:\n",
    "        raise ValueError(f\"Year {year} is out of the predefined range\")\n",
    "    \n",
    "    return (start_tag, end_tag)\n"
   ]
  },
  {
   "cell_type": "code",
   "execution_count": null,
   "metadata": {},
   "outputs": [],
   "source": [
    "import pandas as pd\n",
    "import tqdm\n",
    "import os\n",
    "\n",
    "MARKET = \"kospi\"\n",
    "\n",
    "# Initialize an empty DataFrame\n",
    "df = pd.DataFrame(columns=['stock_code', 'corp_name', 'year','word_count', 'filename', \"start_page\", \"end_page\"])\n",
    "\n",
    "\n",
    "for year in range(2000,2024+1):\n",
    "    rows=[]\n",
    "    tag = get_tags_for_year(year)  \n",
    "    \n",
    "    error_list = []\n",
    "    input_dir = f'/Users/jiho/Projects/kubs/data/report/{MARKET}/{year}'\n",
    "    \n",
    "    for filename in os.listdir(input_dir):\n",
    "        try:\n",
    "            print(f\"Processing {filename}..\")\n",
    "            if filename.endswith(\".pdf\"):\n",
    "                pdf_path = os.path.join(input_dir, filename)\n",
    "                temp_data = count_words_in_section(pdf_path, tag[0], tag[1])\n",
    "                #print(temp_data)\n",
    "\n",
    "                stock_code, corp_name = extract_info_from_filename(filename)\n",
    "                rows += [\n",
    "                {\n",
    "                    \n",
    "                    'stock_code': stock_code,\n",
    "                    'corp_name': corp_name,\n",
    "                    'year': year,\n",
    "                    'word_count': temp_data[2],\n",
    "                    'filename': filename,\n",
    "                    \"start_page\": temp_data[0], \n",
    "                    \"end_page\" : temp_data[1],\n",
    "                    \n",
    "                }\n",
    "            ]\n",
    "    \n",
    "        except Exception as e:\n",
    "            print(f\"Error processing {filename}: {e}\")\n",
    "            error_list.append(filename)\n",
    "\n",
    "    \n",
    "    error_file_path = f\"/Users/jiho/Projects/kubs/progress/error/[D4]{MARKET}_error_{year}.txt\"\n",
    "    with open(error_file_path, 'w') as f:\n",
    "        for error in error_list:\n",
    "            f.write(f\"{error}\\n\")\n",
    "\n",
    "\n",
    "    df = pd.DataFrame(rows)\n",
    "    # Save the DataFrame to a CSV file\n",
    "    df.to_csv(f\"/Users/jiho/Projects/kubs/result/[D4]{MARKET}_{year}.csv\", index=False)\n",
    "    print(\"Data saved to word_counts.csv\")"
   ]
  },
  {
   "cell_type": "code",
   "execution_count": 1,
   "metadata": {},
   "outputs": [
    {
     "data": {
      "text/html": [
       "<div>\n",
       "<style scoped>\n",
       "    .dataframe tbody tr th:only-of-type {\n",
       "        vertical-align: middle;\n",
       "    }\n",
       "\n",
       "    .dataframe tbody tr th {\n",
       "        vertical-align: top;\n",
       "    }\n",
       "\n",
       "    .dataframe thead th {\n",
       "        text-align: right;\n",
       "    }\n",
       "</style>\n",
       "<table border=\"1\" class=\"dataframe\">\n",
       "  <thead>\n",
       "    <tr style=\"text-align: right;\">\n",
       "      <th></th>\n",
       "      <th>stock_code</th>\n",
       "      <th>corp_name</th>\n",
       "      <th>year</th>\n",
       "      <th>word_count</th>\n",
       "      <th>filename</th>\n",
       "      <th>start_page</th>\n",
       "      <th>end_page</th>\n",
       "    </tr>\n",
       "  </thead>\n",
       "  <tbody>\n",
       "    <tr>\n",
       "      <th>0</th>\n",
       "      <td>001630</td>\n",
       "      <td>종근당홀딩스</td>\n",
       "      <td>2024</td>\n",
       "      <td>25843</td>\n",
       "      <td>001630_종근당홀딩스.pdf</td>\n",
       "      <td>23</td>\n",
       "      <td>137</td>\n",
       "    </tr>\n",
       "    <tr>\n",
       "      <th>1</th>\n",
       "      <td>[정정]007340</td>\n",
       "      <td>DN오토모티브</td>\n",
       "      <td>2024</td>\n",
       "      <td>3822</td>\n",
       "      <td>[정정]007340_DN오토모티브.pdf</td>\n",
       "      <td>7</td>\n",
       "      <td>24</td>\n",
       "    </tr>\n",
       "    <tr>\n",
       "      <th>2</th>\n",
       "      <td>030720</td>\n",
       "      <td>동원수산</td>\n",
       "      <td>2024</td>\n",
       "      <td>5590</td>\n",
       "      <td>030720_동원수산.pdf</td>\n",
       "      <td>5</td>\n",
       "      <td>28</td>\n",
       "    </tr>\n",
       "    <tr>\n",
       "      <th>3</th>\n",
       "      <td>021050</td>\n",
       "      <td>서원</td>\n",
       "      <td>2024</td>\n",
       "      <td>3475</td>\n",
       "      <td>021050_서원.pdf</td>\n",
       "      <td>14</td>\n",
       "      <td>33</td>\n",
       "    </tr>\n",
       "    <tr>\n",
       "      <th>4</th>\n",
       "      <td>003780</td>\n",
       "      <td>진양산업</td>\n",
       "      <td>2024</td>\n",
       "      <td>1965</td>\n",
       "      <td>003780_진양산업.pdf</td>\n",
       "      <td>10</td>\n",
       "      <td>22</td>\n",
       "    </tr>\n",
       "    <tr>\n",
       "      <th>...</th>\n",
       "      <td>...</td>\n",
       "      <td>...</td>\n",
       "      <td>...</td>\n",
       "      <td>...</td>\n",
       "      <td>...</td>\n",
       "      <td>...</td>\n",
       "      <td>...</td>\n",
       "    </tr>\n",
       "    <tr>\n",
       "      <th>1013</th>\n",
       "      <td>460860</td>\n",
       "      <td>동국제강</td>\n",
       "      <td>2024</td>\n",
       "      <td>4402</td>\n",
       "      <td>460860_동국제강.pdf</td>\n",
       "      <td>5</td>\n",
       "      <td>33</td>\n",
       "    </tr>\n",
       "    <tr>\n",
       "      <th>1014</th>\n",
       "      <td>100250</td>\n",
       "      <td>진양홀딩스</td>\n",
       "      <td>2024</td>\n",
       "      <td>5254</td>\n",
       "      <td>100250_진양홀딩스.pdf</td>\n",
       "      <td>11</td>\n",
       "      <td>40</td>\n",
       "    </tr>\n",
       "    <tr>\n",
       "      <th>1015</th>\n",
       "      <td>002310</td>\n",
       "      <td>아세아제지</td>\n",
       "      <td>2024</td>\n",
       "      <td>6460</td>\n",
       "      <td>002310_아세아제지.pdf</td>\n",
       "      <td>15</td>\n",
       "      <td>39</td>\n",
       "    </tr>\n",
       "    <tr>\n",
       "      <th>1016</th>\n",
       "      <td>002990</td>\n",
       "      <td>금호건설</td>\n",
       "      <td>2024</td>\n",
       "      <td>4509</td>\n",
       "      <td>002990_금호건설.pdf</td>\n",
       "      <td>21</td>\n",
       "      <td>40</td>\n",
       "    </tr>\n",
       "    <tr>\n",
       "      <th>1017</th>\n",
       "      <td>019180</td>\n",
       "      <td>티에이치엔</td>\n",
       "      <td>2024</td>\n",
       "      <td>2654</td>\n",
       "      <td>019180_티에이치엔.pdf</td>\n",
       "      <td>13</td>\n",
       "      <td>27</td>\n",
       "    </tr>\n",
       "  </tbody>\n",
       "</table>\n",
       "<p>1018 rows × 7 columns</p>\n",
       "</div>"
      ],
      "text/plain": [
       "      stock_code corp_name  year  word_count                filename  \\\n",
       "0         001630    종근당홀딩스  2024       25843       001630_종근당홀딩스.pdf   \n",
       "1     [정정]007340   DN오토모티브  2024        3822  [정정]007340_DN오토모티브.pdf   \n",
       "2         030720      동원수산  2024        5590         030720_동원수산.pdf   \n",
       "3         021050        서원  2024        3475           021050_서원.pdf   \n",
       "4         003780      진양산업  2024        1965         003780_진양산업.pdf   \n",
       "...          ...       ...   ...         ...                     ...   \n",
       "1013      460860      동국제강  2024        4402         460860_동국제강.pdf   \n",
       "1014      100250     진양홀딩스  2024        5254        100250_진양홀딩스.pdf   \n",
       "1015      002310     아세아제지  2024        6460        002310_아세아제지.pdf   \n",
       "1016      002990      금호건설  2024        4509         002990_금호건설.pdf   \n",
       "1017      019180     티에이치엔  2024        2654        019180_티에이치엔.pdf   \n",
       "\n",
       "      start_page  end_page  \n",
       "0             23       137  \n",
       "1              7        24  \n",
       "2              5        28  \n",
       "3             14        33  \n",
       "4             10        22  \n",
       "...          ...       ...  \n",
       "1013           5        33  \n",
       "1014          11        40  \n",
       "1015          15        39  \n",
       "1016          21        40  \n",
       "1017          13        27  \n",
       "\n",
       "[1018 rows x 7 columns]"
      ]
     },
     "execution_count": 1,
     "metadata": {},
     "output_type": "execute_result"
    }
   ],
   "source": [
    "import pandas as pd\n",
    "\n",
    "# 엑셀 파일 불러오기\n",
    "file_path_d4 = '/Users/jiho/Projects/kubs/result/D4.사업의내용단어수/[D4]kospi_2024.csv'\n",
    "file_path = \"/Users/jiho/Projects/kubs/result/[Result] 2021-2024 - 2024.csv\"\n",
    "df1 = pd.read_csv(file_path_d4)\n",
    "df2 = pd.read_csv(file_path)\n",
    "\n",
    "df1"
   ]
  },
  {
   "cell_type": "code",
   "execution_count": 3,
   "metadata": {},
   "outputs": [
    {
     "name": "stderr",
     "output_type": "stream",
     "text": [
      "/var/folders/ls/71tm5nzj7m1dbp2xpq6gbkcc0000gn/T/ipykernel_49096/4276639696.py:2: SettingWithCopyWarning: \n",
      "A value is trying to be set on a copy of a slice from a DataFrame\n",
      "\n",
      "See the caveats in the documentation: https://pandas.pydata.org/pandas-docs/stable/user_guide/indexing.html#returning-a-view-versus-a-copy\n",
      "  df1.rename(columns={\"corp_name\":\"기업명\",\"word_count\":\"D4 (사업의 내용 단어 수)\" }, inplace=True)\n"
     ]
    },
    {
     "data": {
      "text/html": [
       "<div>\n",
       "<style scoped>\n",
       "    .dataframe tbody tr th:only-of-type {\n",
       "        vertical-align: middle;\n",
       "    }\n",
       "\n",
       "    .dataframe tbody tr th {\n",
       "        vertical-align: top;\n",
       "    }\n",
       "\n",
       "    .dataframe thead th {\n",
       "        text-align: right;\n",
       "    }\n",
       "</style>\n",
       "<table border=\"1\" class=\"dataframe\">\n",
       "  <thead>\n",
       "    <tr style=\"text-align: right;\">\n",
       "      <th></th>\n",
       "      <th>기업명</th>\n",
       "      <th>D4 (사업의 내용 단어 수)</th>\n",
       "      <th>start_page</th>\n",
       "      <th>end_page</th>\n",
       "    </tr>\n",
       "  </thead>\n",
       "  <tbody>\n",
       "    <tr>\n",
       "      <th>0</th>\n",
       "      <td>종근당홀딩스</td>\n",
       "      <td>25843</td>\n",
       "      <td>23</td>\n",
       "      <td>137</td>\n",
       "    </tr>\n",
       "    <tr>\n",
       "      <th>1</th>\n",
       "      <td>DN오토모티브</td>\n",
       "      <td>3822</td>\n",
       "      <td>7</td>\n",
       "      <td>24</td>\n",
       "    </tr>\n",
       "    <tr>\n",
       "      <th>2</th>\n",
       "      <td>동원수산</td>\n",
       "      <td>5590</td>\n",
       "      <td>5</td>\n",
       "      <td>28</td>\n",
       "    </tr>\n",
       "    <tr>\n",
       "      <th>3</th>\n",
       "      <td>서원</td>\n",
       "      <td>3475</td>\n",
       "      <td>14</td>\n",
       "      <td>33</td>\n",
       "    </tr>\n",
       "    <tr>\n",
       "      <th>4</th>\n",
       "      <td>진양산업</td>\n",
       "      <td>1965</td>\n",
       "      <td>10</td>\n",
       "      <td>22</td>\n",
       "    </tr>\n",
       "    <tr>\n",
       "      <th>...</th>\n",
       "      <td>...</td>\n",
       "      <td>...</td>\n",
       "      <td>...</td>\n",
       "      <td>...</td>\n",
       "    </tr>\n",
       "    <tr>\n",
       "      <th>1013</th>\n",
       "      <td>동국제강</td>\n",
       "      <td>4402</td>\n",
       "      <td>5</td>\n",
       "      <td>33</td>\n",
       "    </tr>\n",
       "    <tr>\n",
       "      <th>1014</th>\n",
       "      <td>진양홀딩스</td>\n",
       "      <td>5254</td>\n",
       "      <td>11</td>\n",
       "      <td>40</td>\n",
       "    </tr>\n",
       "    <tr>\n",
       "      <th>1015</th>\n",
       "      <td>아세아제지</td>\n",
       "      <td>6460</td>\n",
       "      <td>15</td>\n",
       "      <td>39</td>\n",
       "    </tr>\n",
       "    <tr>\n",
       "      <th>1016</th>\n",
       "      <td>금호건설</td>\n",
       "      <td>4509</td>\n",
       "      <td>21</td>\n",
       "      <td>40</td>\n",
       "    </tr>\n",
       "    <tr>\n",
       "      <th>1017</th>\n",
       "      <td>티에이치엔</td>\n",
       "      <td>2654</td>\n",
       "      <td>13</td>\n",
       "      <td>27</td>\n",
       "    </tr>\n",
       "  </tbody>\n",
       "</table>\n",
       "<p>1018 rows × 4 columns</p>\n",
       "</div>"
      ],
      "text/plain": [
       "          기업명  D4 (사업의 내용 단어 수)  start_page  end_page\n",
       "0      종근당홀딩스             25843          23       137\n",
       "1     DN오토모티브              3822           7        24\n",
       "2        동원수산              5590           5        28\n",
       "3          서원              3475          14        33\n",
       "4        진양산업              1965          10        22\n",
       "...       ...               ...         ...       ...\n",
       "1013     동국제강              4402           5        33\n",
       "1014    진양홀딩스              5254          11        40\n",
       "1015    아세아제지              6460          15        39\n",
       "1016     금호건설              4509          21        40\n",
       "1017    티에이치엔              2654          13        27\n",
       "\n",
       "[1018 rows x 4 columns]"
      ]
     },
     "execution_count": 3,
     "metadata": {},
     "output_type": "execute_result"
    }
   ],
   "source": [
    "df1 = df1[[\"corp_name\",\"word_count\",\"start_page\",\"end_page\" ]]\n",
    "df1.rename(columns={\"corp_name\":\"기업명\",\"word_count\":\"D4\\n(사업의 내용 단어 수)\" }, inplace=True)\n",
    "df1"
   ]
  },
  {
   "cell_type": "code",
   "execution_count": 7,
   "metadata": {},
   "outputs": [],
   "source": [
    "merged_df = pd.merge( df2,df1, on='기업명', how='inner')\n",
    "merged_df.to_csv(\"/Users/jiho/Projects/kubs/result/2024_test_result.csv\")"
   ]
  }
 ],
 "metadata": {
  "kernelspec": {
   "display_name": "gov_feature",
   "language": "python",
   "name": "python3"
  },
  "language_info": {
   "codemirror_mode": {
    "name": "ipython",
    "version": 3
   },
   "file_extension": ".py",
   "mimetype": "text/x-python",
   "name": "python",
   "nbconvert_exporter": "python",
   "pygments_lexer": "ipython3",
   "version": "3.12.4"
  }
 },
 "nbformat": 4,
 "nbformat_minor": 2
}
